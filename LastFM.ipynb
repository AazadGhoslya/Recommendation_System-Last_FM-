{
 "cells": [
  {
   "cell_type": "markdown",
   "metadata": {},
   "source": [
    "# RECOMMENDATION TOOLS LastFM\n",
    "\n",
    "Prof. Philipp Borchert\n",
    "\n",
    "Team:\n",
    "\n",
    "Sripada Sai Sumanth\n",
    "\n",
    "Aazad Ghoslya\n",
    "\n",
    "Remi Colombier"
   ]
  },
  {
   "cell_type": "code",
   "execution_count": 415,
   "metadata": {},
   "outputs": [
    {
     "name": "stderr",
     "output_type": "stream",
     "text": [
      "[nltk_data] Downloading package punkt to\n",
      "[nltk_data]     C:\\Users\\ssripada1\\AppData\\Roaming\\nltk_data...\n",
      "[nltk_data]   Package punkt is already up-to-date!\n",
      "[nltk_data] Downloading package stopwords to\n",
      "[nltk_data]     C:\\Users\\ssripada1\\AppData\\Roaming\\nltk_data...\n",
      "[nltk_data]   Package stopwords is already up-to-date!\n"
     ]
    }
   ],
   "source": [
    "#IMPORTING\n",
    "\n",
    "import numpy as np\n",
    "import pandas as pd \n",
    "import matplotlib.pyplot as plt\n",
    "import seaborn as sns\n",
    "\n",
    "import warnings\n",
    "warnings.filterwarnings(\"ignore\")\n",
    "\n",
    "# NLP packages\n",
    "import nltk # pip install nltk\n",
    "nltk.download('punkt')\n",
    "nltk.download('stopwords')\n",
    "from nltk.tokenize import word_tokenize\n",
    "from nltk.corpus import stopwords\n",
    "from sklearn.feature_extraction.text import TfidfVectorizer\n",
    "from nltk.stem.snowball import SnowballStemmer\n",
    "\n",
    "\n",
    "from IESEG import eval\n",
    "from IESEG.model import ContentBased\n",
    "from sklearn.model_selection import train_test_split\n",
    "from surprise import Dataset, Reader, KNNBasic, SVD, SVDpp\n",
    "from surprise import accuracy\n",
    "from surprise import BaselineOnly\n",
    "from surprise.prediction_algorithms.co_clustering import CoClustering\n",
    "from surprise.model_selection.search import GridSearchCV\n",
    "from surprise import NormalPredictor\n",
    "from surprise.model_selection import cross_validate\n",
    "from surprise.model_selection import KFold\n"
   ]
  },
  {
   "cell_type": "markdown",
   "metadata": {},
   "source": [
    "READING THE DATA"
   ]
  },
  {
   "cell_type": "code",
   "execution_count": 276,
   "metadata": {},
   "outputs": [],
   "source": [
    "artists = pd.read_table(\"Artists.dat\")\n",
    "tags    = pd.read_table(\"tags.dat\" , encoding='latin-1')\n",
    "user_artists = pd.read_table(\"user_artists.dat\")\n",
    "user_tags = pd.read_table(\"user_taggedartists.dat\")"
   ]
  },
  {
   "cell_type": "markdown",
   "metadata": {},
   "source": [
    "### Artists"
   ]
  },
  {
   "cell_type": "code",
   "execution_count": 278,
   "metadata": {},
   "outputs": [
    {
     "data": {
      "text/html": [
       "<div>\n",
       "<style scoped>\n",
       "    .dataframe tbody tr th:only-of-type {\n",
       "        vertical-align: middle;\n",
       "    }\n",
       "\n",
       "    .dataframe tbody tr th {\n",
       "        vertical-align: top;\n",
       "    }\n",
       "\n",
       "    .dataframe thead th {\n",
       "        text-align: right;\n",
       "    }\n",
       "</style>\n",
       "<table border=\"1\" class=\"dataframe\">\n",
       "  <thead>\n",
       "    <tr style=\"text-align: right;\">\n",
       "      <th></th>\n",
       "      <th>id</th>\n",
       "      <th>name</th>\n",
       "      <th>url</th>\n",
       "      <th>pictureURL</th>\n",
       "    </tr>\n",
       "  </thead>\n",
       "  <tbody>\n",
       "    <tr>\n",
       "      <th>0</th>\n",
       "      <td>1</td>\n",
       "      <td>MALICE MIZER</td>\n",
       "      <td>http://www.last.fm/music/MALICE+MIZER</td>\n",
       "      <td>http://userserve-ak.last.fm/serve/252/10808.jpg</td>\n",
       "    </tr>\n",
       "    <tr>\n",
       "      <th>1</th>\n",
       "      <td>2</td>\n",
       "      <td>Diary of Dreams</td>\n",
       "      <td>http://www.last.fm/music/Diary+of+Dreams</td>\n",
       "      <td>http://userserve-ak.last.fm/serve/252/3052066.jpg</td>\n",
       "    </tr>\n",
       "  </tbody>\n",
       "</table>\n",
       "</div>"
      ],
      "text/plain": [
       "   id             name                                       url  \\\n",
       "0   1     MALICE MIZER     http://www.last.fm/music/MALICE+MIZER   \n",
       "1   2  Diary of Dreams  http://www.last.fm/music/Diary+of+Dreams   \n",
       "\n",
       "                                          pictureURL  \n",
       "0    http://userserve-ak.last.fm/serve/252/10808.jpg  \n",
       "1  http://userserve-ak.last.fm/serve/252/3052066.jpg  "
      ]
     },
     "execution_count": 278,
     "metadata": {},
     "output_type": "execute_result"
    }
   ],
   "source": [
    "artists.head(2)"
   ]
  },
  {
   "cell_type": "code",
   "execution_count": 279,
   "metadata": {},
   "outputs": [
    {
     "data": {
      "text/plain": [
       "17632"
      ]
     },
     "execution_count": 279,
     "metadata": {},
     "output_type": "execute_result"
    }
   ],
   "source": [
    "artists['name'].nunique()"
   ]
  },
  {
   "cell_type": "markdown",
   "metadata": {},
   "source": [
    "### User Artists"
   ]
  },
  {
   "cell_type": "code",
   "execution_count": 219,
   "metadata": {},
   "outputs": [
    {
     "data": {
      "text/html": [
       "<div>\n",
       "<style scoped>\n",
       "    .dataframe tbody tr th:only-of-type {\n",
       "        vertical-align: middle;\n",
       "    }\n",
       "\n",
       "    .dataframe tbody tr th {\n",
       "        vertical-align: top;\n",
       "    }\n",
       "\n",
       "    .dataframe thead th {\n",
       "        text-align: right;\n",
       "    }\n",
       "</style>\n",
       "<table border=\"1\" class=\"dataframe\">\n",
       "  <thead>\n",
       "    <tr style=\"text-align: right;\">\n",
       "      <th></th>\n",
       "      <th>userID</th>\n",
       "      <th>artistID</th>\n",
       "      <th>weight</th>\n",
       "    </tr>\n",
       "  </thead>\n",
       "  <tbody>\n",
       "    <tr>\n",
       "      <th>0</th>\n",
       "      <td>2</td>\n",
       "      <td>51</td>\n",
       "      <td>13883</td>\n",
       "    </tr>\n",
       "    <tr>\n",
       "      <th>1</th>\n",
       "      <td>2</td>\n",
       "      <td>52</td>\n",
       "      <td>11690</td>\n",
       "    </tr>\n",
       "  </tbody>\n",
       "</table>\n",
       "</div>"
      ],
      "text/plain": [
       "   userID  artistID  weight\n",
       "0       2        51   13883\n",
       "1       2        52   11690"
      ]
     },
     "execution_count": 219,
     "metadata": {},
     "output_type": "execute_result"
    }
   ],
   "source": [
    "user_artists.head(2)"
   ]
  },
  {
   "cell_type": "code",
   "execution_count": 282,
   "metadata": {},
   "outputs": [
    {
     "data": {
      "text/plain": [
       "userID\n",
       "2       50\n",
       "3       50\n",
       "4       50\n",
       "5       50\n",
       "6       50\n",
       "        ..\n",
       "2095    50\n",
       "2096    50\n",
       "2097    50\n",
       "2099    50\n",
       "2100    50\n",
       "Length: 1892, dtype: int64"
      ]
     },
     "execution_count": 282,
     "metadata": {},
     "output_type": "execute_result"
    }
   ],
   "source": [
    "#### Check for userID\n",
    "ua = user_artists.groupby('userID').size()\n",
    "ua"
   ]
  },
  {
   "cell_type": "code",
   "execution_count": 283,
   "metadata": {},
   "outputs": [
    {
     "data": {
      "image/png": "[encoded data removed]",
      "text/plain": [
       "<Figure size 432x288 with 1 Axes>"
      ]
     },
     "metadata": {
      "needs_background": "light"
     },
     "output_type": "display_data"
    }
   ],
   "source": [
    "\n",
    "#### User_artists weights\n",
    "ax = user_artists['weight'].plot.line()"
   ]
  },
  {
   "cell_type": "markdown",
   "metadata": {},
   "source": [
    "### User Tags"
   ]
  },
  {
   "cell_type": "code",
   "execution_count": 220,
   "metadata": {},
   "outputs": [
    {
     "data": {
      "text/html": [
       "<div>\n",
       "<style scoped>\n",
       "    .dataframe tbody tr th:only-of-type {\n",
       "        vertical-align: middle;\n",
       "    }\n",
       "\n",
       "    .dataframe tbody tr th {\n",
       "        vertical-align: top;\n",
       "    }\n",
       "\n",
       "    .dataframe thead th {\n",
       "        text-align: right;\n",
       "    }\n",
       "</style>\n",
       "<table border=\"1\" class=\"dataframe\">\n",
       "  <thead>\n",
       "    <tr style=\"text-align: right;\">\n",
       "      <th></th>\n",
       "      <th>userID</th>\n",
       "      <th>artistID</th>\n",
       "      <th>tagID</th>\n",
       "      <th>day</th>\n",
       "      <th>month</th>\n",
       "      <th>year</th>\n",
       "    </tr>\n",
       "  </thead>\n",
       "  <tbody>\n",
       "    <tr>\n",
       "      <th>0</th>\n",
       "      <td>2</td>\n",
       "      <td>52</td>\n",
       "      <td>13</td>\n",
       "      <td>1</td>\n",
       "      <td>4</td>\n",
       "      <td>2009</td>\n",
       "    </tr>\n",
       "    <tr>\n",
       "      <th>1</th>\n",
       "      <td>2</td>\n",
       "      <td>52</td>\n",
       "      <td>15</td>\n",
       "      <td>1</td>\n",
       "      <td>4</td>\n",
       "      <td>2009</td>\n",
       "    </tr>\n",
       "  </tbody>\n",
       "</table>\n",
       "</div>"
      ],
      "text/plain": [
       "   userID  artistID  tagID  day  month  year\n",
       "0       2        52     13    1      4  2009\n",
       "1       2        52     15    1      4  2009"
      ]
     },
     "execution_count": 220,
     "metadata": {},
     "output_type": "execute_result"
    }
   ],
   "source": [
    "user_tags.head(2)"
   ]
  },
  {
   "cell_type": "markdown",
   "metadata": {},
   "source": [
    "#### Check for most common artists"
   ]
  },
  {
   "cell_type": "code",
   "execution_count": 551,
   "metadata": {},
   "outputs": [
    {
     "data": {
      "text/html": [
       "<div>\n",
       "<style scoped>\n",
       "    .dataframe tbody tr th:only-of-type {\n",
       "        vertical-align: middle;\n",
       "    }\n",
       "\n",
       "    .dataframe tbody tr th {\n",
       "        vertical-align: top;\n",
       "    }\n",
       "\n",
       "    .dataframe thead th {\n",
       "        text-align: right;\n",
       "    }\n",
       "</style>\n",
       "<table border=\"1\" class=\"dataframe\">\n",
       "  <thead>\n",
       "    <tr style=\"text-align: right;\">\n",
       "      <th></th>\n",
       "      <th>tagID</th>\n",
       "      <th>tagValue</th>\n",
       "      <th>userID</th>\n",
       "      <th>artistID</th>\n",
       "      <th>day</th>\n",
       "      <th>month</th>\n",
       "      <th>year</th>\n",
       "    </tr>\n",
       "  </thead>\n",
       "  <tbody>\n",
       "    <tr>\n",
       "      <th>0</th>\n",
       "      <td>1</td>\n",
       "      <td>metal</td>\n",
       "      <td>4.0</td>\n",
       "      <td>918.0</td>\n",
       "      <td>1.0</td>\n",
       "      <td>5.0</td>\n",
       "      <td>2008.0</td>\n",
       "    </tr>\n",
       "    <tr>\n",
       "      <th>1</th>\n",
       "      <td>1</td>\n",
       "      <td>metal</td>\n",
       "      <td>12.0</td>\n",
       "      <td>181.0</td>\n",
       "      <td>1.0</td>\n",
       "      <td>5.0</td>\n",
       "      <td>2010.0</td>\n",
       "    </tr>\n",
       "  </tbody>\n",
       "</table>\n",
       "</div>"
      ],
      "text/plain": [
       "   tagID tagValue  userID  artistID  day  month    year\n",
       "0      1    metal     4.0     918.0  1.0    5.0  2008.0\n",
       "1      1    metal    12.0     181.0  1.0    5.0  2010.0"
      ]
     },
     "execution_count": 551,
     "metadata": {},
     "output_type": "execute_result"
    }
   ],
   "source": [
    "new = tags.merge(user_tags, on = 'tagID', how='left')\n",
    "new.head(2)"
   ]
  },
  {
   "cell_type": "code",
   "execution_count": 552,
   "metadata": {},
   "outputs": [],
   "source": [
    "#getting the tagvalues and the respective aggragated count\n",
    "most_common_tag = (\n",
    "    new\n",
    "    .groupby(\"artistID\")[\"tagValue\"]\n",
    "    .value_counts().rename(\"count\").reset_index()\n",
    "    .groupby(\"artistID\")\n",
    "    .first()[\"tagValue\"]\n",
    ")"
   ]
  },
  {
   "cell_type": "code",
   "execution_count": 557,
   "metadata": {},
   "outputs": [
    {
     "data": {
      "image/png": "[encoded data removed]",
      "text/plain": [
       "<Figure size 720x504 with 1 Axes>"
      ]
     },
     "metadata": {
      "needs_background": "light"
     },
     "output_type": "display_data"
    }
   ],
   "source": [
    "#Plot for the Most Common Artist Tags\n",
    "\n",
    "fig, ax = plt.subplots(figsize=(10, 7))\n",
    "most_common_tag.value_counts().head(20).plot.bar(ax=ax, color =  'green')\n",
    "plt.title(\"Most Common Artist Tags\", fontsize=20)\n",
    "plt.ylabel(\"Number of Artists\", fontsize=16)\n",
    "plt.xticks(rotation=45, ha=\"right\")\n",
    "plt.show()"
   ]
  },
  {
   "cell_type": "markdown",
   "metadata": {},
   "source": [
    "### Tags"
   ]
  },
  {
   "cell_type": "code",
   "execution_count": 221,
   "metadata": {},
   "outputs": [
    {
     "data": {
      "text/html": [
       "<div>\n",
       "<style scoped>\n",
       "    .dataframe tbody tr th:only-of-type {\n",
       "        vertical-align: middle;\n",
       "    }\n",
       "\n",
       "    .dataframe tbody tr th {\n",
       "        vertical-align: top;\n",
       "    }\n",
       "\n",
       "    .dataframe thead th {\n",
       "        text-align: right;\n",
       "    }\n",
       "</style>\n",
       "<table border=\"1\" class=\"dataframe\">\n",
       "  <thead>\n",
       "    <tr style=\"text-align: right;\">\n",
       "      <th></th>\n",
       "      <th>tagID</th>\n",
       "      <th>tagValue</th>\n",
       "    </tr>\n",
       "  </thead>\n",
       "  <tbody>\n",
       "    <tr>\n",
       "      <th>0</th>\n",
       "      <td>1</td>\n",
       "      <td>metal</td>\n",
       "    </tr>\n",
       "    <tr>\n",
       "      <th>1</th>\n",
       "      <td>2</td>\n",
       "      <td>alternative metal</td>\n",
       "    </tr>\n",
       "  </tbody>\n",
       "</table>\n",
       "</div>"
      ],
      "text/plain": [
       "   tagID           tagValue\n",
       "0      1              metal\n",
       "1      2  alternative metal"
      ]
     },
     "execution_count": 221,
     "metadata": {},
     "output_type": "execute_result"
    }
   ],
   "source": [
    "tags.head(2)"
   ]
  },
  {
   "cell_type": "code",
   "execution_count": 281,
   "metadata": {},
   "outputs": [
    {
     "name": "stdout",
     "output_type": "stream",
     "text": [
      "11946\n",
      "11946\n"
     ]
    }
   ],
   "source": [
    "print(tags['tagID'].nunique())\n",
    "print(tags['tagValue'].nunique())"
   ]
  },
  {
   "cell_type": "code",
   "execution_count": 287,
   "metadata": {},
   "outputs": [
    {
     "data": {
      "text/plain": [
       "<matplotlib.legend.Legend at 0x1b0fa5aff70>"
      ]
     },
     "execution_count": 287,
     "metadata": {},
     "output_type": "execute_result"
    },
    {
     "data": {
      "image/png": "[encoded data removed]",
      "text/plain": [
       "<Figure size 432x288 with 1 Axes>"
      ]
     },
     "metadata": {
      "needs_background": "light"
     },
     "output_type": "display_data"
    }
   ],
   "source": [
    "# average number of tags per user\n",
    "\n",
    "reviews_item = user_tags.groupby('userID').agg({'tagID':'count'})\n",
    "\n",
    "#histogram\n",
    "reviews_item.clip(upper=1000).hist(bins=40)\n",
    "\n",
    "plt.axvline(x=reviews_item.mean().item(), label=f\"Mean tags per user is {reviews_item.mean().item():.1f}\", c=\"k\")\n",
    "plt.axvline(x=reviews_item.median().item(), label=f\"Median tags per user is {reviews_item.median().item():.1f}\", c=\"r\")\n",
    "plt.legend()"
   ]
  },
  {
   "cell_type": "markdown",
   "metadata": {},
   "source": [
    "Scaling the weights \n",
    "\n",
    "- Weights of the Artists looks very skewed, hence we tried to scale the data using Min Max Scaling "
   ]
  },
  {
   "cell_type": "code",
   "execution_count": 298,
   "metadata": {},
   "outputs": [],
   "source": [
    "# Function for  min-max scaling \n",
    "def min_max_scaling(df):\n",
    "    # copy the dataframe\n",
    "    df_norm = df.copy()\n",
    "    # apply min-max scaling\n",
    "    for column in df_norm.columns:\n",
    "        df_norm[column] = (df_norm[column] - df_norm[column].min()) / (df_norm[column].max() - df_norm[column].min())\n",
    "        \n",
    "    return df_norm"
   ]
  },
  {
   "cell_type": "code",
   "execution_count": 299,
   "metadata": {},
   "outputs": [
    {
     "data": {
      "text/html": [
       "<div>\n",
       "<style scoped>\n",
       "    .dataframe tbody tr th:only-of-type {\n",
       "        vertical-align: middle;\n",
       "    }\n",
       "\n",
       "    .dataframe tbody tr th {\n",
       "        vertical-align: top;\n",
       "    }\n",
       "\n",
       "    .dataframe thead th {\n",
       "        text-align: right;\n",
       "    }\n",
       "</style>\n",
       "<table border=\"1\" class=\"dataframe\">\n",
       "  <thead>\n",
       "    <tr style=\"text-align: right;\">\n",
       "      <th></th>\n",
       "      <th>weight</th>\n",
       "    </tr>\n",
       "  </thead>\n",
       "  <tbody>\n",
       "    <tr>\n",
       "      <th>0</th>\n",
       "      <td>13883</td>\n",
       "    </tr>\n",
       "    <tr>\n",
       "      <th>1</th>\n",
       "      <td>11690</td>\n",
       "    </tr>\n",
       "  </tbody>\n",
       "</table>\n",
       "</div>"
      ],
      "text/plain": [
       "   weight\n",
       "0   13883\n",
       "1   11690"
      ]
     },
     "execution_count": 299,
     "metadata": {},
     "output_type": "execute_result"
    }
   ],
   "source": [
    "df_to_scale = user_artists['weight']\n",
    "df_to_scale = pd.DataFrame(df_to_scale)\n",
    "df_to_scale.head(2)"
   ]
  },
  {
   "cell_type": "code",
   "execution_count": 300,
   "metadata": {},
   "outputs": [
    {
     "data": {
      "text/html": [
       "<div>\n",
       "<style scoped>\n",
       "    .dataframe tbody tr th:only-of-type {\n",
       "        vertical-align: middle;\n",
       "    }\n",
       "\n",
       "    .dataframe tbody tr th {\n",
       "        vertical-align: top;\n",
       "    }\n",
       "\n",
       "    .dataframe thead th {\n",
       "        text-align: right;\n",
       "    }\n",
       "</style>\n",
       "<table border=\"1\" class=\"dataframe\">\n",
       "  <thead>\n",
       "    <tr style=\"text-align: right;\">\n",
       "      <th></th>\n",
       "      <th>weight</th>\n",
       "    </tr>\n",
       "  </thead>\n",
       "  <tbody>\n",
       "    <tr>\n",
       "      <th>0</th>\n",
       "      <td>0.039360</td>\n",
       "    </tr>\n",
       "    <tr>\n",
       "      <th>1</th>\n",
       "      <td>0.033142</td>\n",
       "    </tr>\n",
       "    <tr>\n",
       "      <th>2</th>\n",
       "      <td>0.032181</td>\n",
       "    </tr>\n",
       "  </tbody>\n",
       "</table>\n",
       "</div>"
      ],
      "text/plain": [
       "     weight\n",
       "0  0.039360\n",
       "1  0.033142\n",
       "2  0.032181"
      ]
     },
     "execution_count": 300,
     "metadata": {},
     "output_type": "execute_result"
    }
   ],
   "source": [
    "# call the min_max_scaling function\n",
    "df_normalized = min_max_scaling(df_to_scale)\n",
    "df_normalized.head(3)"
   ]
  },
  {
   "cell_type": "markdown",
   "metadata": {},
   "source": [
    "- Here we are using the quantiles to get the percentiles and based on that we are dividing the weights into 5 different categories for 5 Ratings\n",
    "\n",
    "- Here we can see 1.0 is the max value and 0 is the Min value\n",
    "\n",
    "0.2    0.000232\n",
    "0.4    0.000530\n",
    "0.6    0.001012\n",
    "0.8    0.002163\n",
    "\n",
    "are the four quantiles values based on which we are giving ratings."
   ]
  },
  {
   "cell_type": "code",
   "execution_count": 301,
   "metadata": {},
   "outputs": [
    {
     "name": "stdout",
     "output_type": "stream",
     "text": [
      "1.0\n",
      "0.0\n"
     ]
    },
    {
     "data": {
      "text/plain": [
       "0.2    0.000232\n",
       "0.4    0.000530\n",
       "0.6    0.001012\n",
       "0.8    0.002163\n",
       "Name: weight, dtype: float64"
      ]
     },
     "execution_count": 301,
     "metadata": {},
     "output_type": "execute_result"
    }
   ],
   "source": [
    "print(df_normalized.weight.max())\n",
    "print(df_normalized.weight.min())\n",
    "df_normalized.weight.quantile([0.20,0.40,0.60,0.80])"
   ]
  },
  {
   "cell_type": "markdown",
   "metadata": {},
   "source": [
    "Ratings 1-5"
   ]
  },
  {
   "cell_type": "code",
   "execution_count": 305,
   "metadata": {},
   "outputs": [],
   "source": [
    "user_artists['rating']  = 0\n",
    "user_artists.loc[user_artists['weight']  <= 0.000232 ,['rating']] = 1\n",
    "user_artists.loc[(user_artists['weight'] > 0.000232) & (user_artists['weight']<= 0.000530) ,['rating']] = 2\n",
    "user_artists.loc[(user_artists['weight'] > 0.000530 ) & (user_artists['weight']<= 0.001012) ,['rating']] = 3\n",
    "user_artists.loc[(user_artists['weight']  > 0.001012) & (user_artists['weight']<= 0.002163) ,['rating']] = 4\n",
    "user_artists.loc[user_artists['weight']  > 0.002163 ,['rating']] = 5"
   ]
  },
  {
   "cell_type": "code",
   "execution_count": 306,
   "metadata": {},
   "outputs": [
    {
     "data": {
      "text/html": [
       "<div>\n",
       "<style scoped>\n",
       "    .dataframe tbody tr th:only-of-type {\n",
       "        vertical-align: middle;\n",
       "    }\n",
       "\n",
       "    .dataframe tbody tr th {\n",
       "        vertical-align: top;\n",
       "    }\n",
       "\n",
       "    .dataframe thead th {\n",
       "        text-align: right;\n",
       "    }\n",
       "</style>\n",
       "<table border=\"1\" class=\"dataframe\">\n",
       "  <thead>\n",
       "    <tr style=\"text-align: right;\">\n",
       "      <th></th>\n",
       "      <th>userID</th>\n",
       "      <th>artistID</th>\n",
       "      <th>weight</th>\n",
       "      <th>rating</th>\n",
       "    </tr>\n",
       "  </thead>\n",
       "  <tbody>\n",
       "    <tr>\n",
       "      <th>0</th>\n",
       "      <td>2</td>\n",
       "      <td>51</td>\n",
       "      <td>0.039360</td>\n",
       "      <td>5</td>\n",
       "    </tr>\n",
       "    <tr>\n",
       "      <th>1</th>\n",
       "      <td>2</td>\n",
       "      <td>52</td>\n",
       "      <td>0.033142</td>\n",
       "      <td>5</td>\n",
       "    </tr>\n",
       "    <tr>\n",
       "      <th>2</th>\n",
       "      <td>2</td>\n",
       "      <td>53</td>\n",
       "      <td>0.032181</td>\n",
       "      <td>5</td>\n",
       "    </tr>\n",
       "  </tbody>\n",
       "</table>\n",
       "</div>"
      ],
      "text/plain": [
       "   userID  artistID    weight  rating\n",
       "0       2        51  0.039360       5\n",
       "1       2        52  0.033142       5\n",
       "2       2        53  0.032181       5"
      ]
     },
     "execution_count": 306,
     "metadata": {},
     "output_type": "execute_result"
    }
   ],
   "source": [
    "user_artists['weight'] = df_normalized\n",
    "user_artists.head(3)"
   ]
  },
  {
   "cell_type": "code",
   "execution_count": 307,
   "metadata": {},
   "outputs": [
    {
     "data": {
      "text/plain": [
       "rating\n",
       "1    18560\n",
       "2    18537\n",
       "3    18526\n",
       "4    18633\n",
       "5    18578\n",
       "dtype: int64"
      ]
     },
     "execution_count": 307,
     "metadata": {},
     "output_type": "execute_result"
    }
   ],
   "source": [
    "user_artists.groupby('rating').size()"
   ]
  },
  {
   "cell_type": "markdown",
   "metadata": {},
   "source": [
    "### Check the distribution of the rating\n",
    "So after the ratings are divided based on the quantiles, we have almost equal number of ratings as we can see below."
   ]
  },
  {
   "cell_type": "code",
   "execution_count": 554,
   "metadata": {},
   "outputs": [
    {
     "data": {
      "image/png": "[encoded data removed]",
      "text/plain": [
       "<Figure size 720x360 with 1 Axes>"
      ]
     },
     "metadata": {},
     "output_type": "display_data"
    }
   ],
   "source": [
    "#Plot for the Cout of each Ratings\n",
    "with sns.axes_style('white'):\n",
    "    g = sns.catplot(\"rating\", data=user_artists, aspect=2.0,kind='count')\n",
    "    g.set_ylabels(\"Total number of ratings\")\n",
    "    g.set_xlabels(\"Ratings\")\n",
    "    g.set_titles(\"Ratings Distribution\")"
   ]
  },
  {
   "cell_type": "markdown",
   "metadata": {},
   "source": [
    "Subsetting the data and only taking userID , artistID , rating"
   ]
  },
  {
   "cell_type": "code",
   "execution_count": 311,
   "metadata": {},
   "outputs": [],
   "source": [
    "#subsetting the data \n",
    "data_df = user_artists[['userID','artistID','rating']]\n",
    "data_df.head(3)\n",
    "\n",
    "#Renaming the rating to raw_ratings\n",
    "data_df = data_df.rename(columns={'rating': 'raw_ratings'})\n",
    "\n",
    "#split the data into train and test 30 - 70\n",
    "train , test = train_test_split(data_df , test_size=0.3,random_state= 42)"
   ]
  },
  {
   "cell_type": "code",
   "execution_count": 312,
   "metadata": {},
   "outputs": [
    {
     "name": "stdout",
     "output_type": "stream",
     "text": [
      "(92834, 3)\n",
      "(64983, 3)\n",
      "(27851, 3)\n"
     ]
    }
   ],
   "source": [
    "# reset index\n",
    "train = train.reset_index(drop=True)\n",
    "test = test.reset_index(drop=True)\n",
    "\n",
    "print(data_df.shape)\n",
    "print(train.shape)\n",
    "print(test.shape)"
   ]
  },
  {
   "cell_type": "markdown",
   "metadata": {},
   "source": [
    "surprise format - using the Reader and load_from_df objects , transformed the datasets into surprise format"
   ]
  },
  {
   "cell_type": "code",
   "execution_count": 313,
   "metadata": {},
   "outputs": [],
   "source": [
    "reader = Reader(rating_scale= (1,5))\n",
    "train_df = Dataset.load_from_df(train,reader).build_full_trainset()\n",
    "test_df = list(test.itertuples(index=False,name = None))"
   ]
  },
  {
   "cell_type": "markdown",
   "metadata": {},
   "source": [
    "# COLLABORATIVE FILTERING"
   ]
  },
  {
   "cell_type": "markdown",
   "metadata": {},
   "source": [
    "## KNNBasic User Based\n",
    "\n",
    "It recommends items based on the common preferences of the users and their profiles. Within the KNNBasic the parameter ‘user_based = True’  is to be set for the used based model."
   ]
  },
  {
   "cell_type": "code",
   "execution_count": 314,
   "metadata": {},
   "outputs": [
    {
     "name": "stdout",
     "output_type": "stream",
     "text": [
      "Computing the cosine similarity matrix...\n",
      "Done computing similarity matrix.\n",
      "MAE:  1.2019\n",
      "1.2019404337265027\n",
      "RMSE: 1.4107\n",
      "1.410693680833301\n"
     ]
    }
   ],
   "source": [
    "#USER BASED\n",
    "\n",
    "np.random.seed(50)\n",
    "#cosine similarity\n",
    "sim_options = {'name':'cosine','user_based':True}\n",
    "algo_ub = KNNBasic(k = 20,min_k=5 , sim_options= sim_options)\n",
    "\n",
    "#Fit the Model\n",
    "algo_ub.fit(train_df)\n",
    "\n",
    "#Predicting on Test data\n",
    "prediction_ub = algo_ub.test(test_df)\n",
    "prediction_df = pd.DataFrame(prediction_ub)\n",
    "prediction_df.head()\n",
    "\n",
    "#Accuracy MAE & RMSE\n",
    "print(accuracy.mae(prediction_ub, verbose=True))\n",
    "print(accuracy.rmse(prediction_ub,verbose = True))"
   ]
  },
  {
   "cell_type": "markdown",
   "metadata": {},
   "source": [
    "## KNNBasic Item Based"
   ]
  },
  {
   "cell_type": "code",
   "execution_count": 315,
   "metadata": {},
   "outputs": [
    {
     "name": "stdout",
     "output_type": "stream",
     "text": [
      "Computing the cosine similarity matrix...\n",
      "Done computing similarity matrix.\n",
      "MAE:  0.8352\n",
      "0.8352482292156409\n",
      "RMSE: 1.0723\n",
      "1.0722821335166353\n"
     ]
    }
   ],
   "source": [
    "#ITEM BASED\n",
    "\n",
    "np.random.seed(50)\n",
    "#cosine similarity\n",
    "sim_options = {'name':'cosine','user_based':False}\n",
    "algo_ub = KNNBasic(k = 20,min_k=5 , sim_options= sim_options)\n",
    "\n",
    "#Fit the Model\n",
    "algo_ub.fit(train_df)\n",
    "\n",
    "#Predicting on Test data\n",
    "prediction_ib = algo_ub.test(test_df)\n",
    "prediction_df = pd.DataFrame(prediction_ib)\n",
    "prediction_df.head()\n",
    "\n",
    "#Accuracy MAE & RMSE\n",
    "print(accuracy.mae(prediction_ib, verbose=True))\n",
    "print(accuracy.rmse(prediction_ib,verbose = True))"
   ]
  },
  {
   "cell_type": "markdown",
   "metadata": {},
   "source": [
    "## ALS(Alternating Least Square)\n",
    "\n",
    "ALS works by optimizing the optimizing the ratings obtained either according to users or according to items. It decomposes the rating matrix into two factors user matrix and item matrix.\n",
    "•\tIt minimizes the least squared error of the observed ratings.\n"
   ]
  },
  {
   "cell_type": "code",
   "execution_count": 316,
   "metadata": {},
   "outputs": [
    {
     "name": "stdout",
     "output_type": "stream",
     "text": [
      "Using ALS\n",
      "Estimating biases using als...\n",
      "RMSE: 0.8932\n"
     ]
    },
    {
     "data": {
      "text/plain": [
       "0.8931595731992387"
      ]
     },
     "execution_count": 316,
     "metadata": {},
     "output_type": "execute_result"
    }
   ],
   "source": [
    "# ALS \n",
    "from surprise import BaselineOnly\n",
    "print('Using ALS')\n",
    "bsl_options = {'method': 'als',\n",
    "               'n_epochs': 5,\n",
    "               'reg_u': 12,\n",
    "               'reg_i': 5\n",
    "               }\n",
    "\n",
    "#Baseline \n",
    "algo_als = BaselineOnly(bsl_options=bsl_options)\n",
    "\n",
    "#Fit train data\n",
    "model = algo_als.fit(train_df)\n",
    "\n",
    "#Predictions \n",
    "predictions_als = algo_als.test(test_df)\n",
    "prediction_df3 = pd.DataFrame(predictions_als)\n",
    "prediction_df3.head()\n",
    "\n",
    "#Accuracy\n",
    "accuracy.rmse(predictions_als)"
   ]
  },
  {
   "cell_type": "markdown",
   "metadata": {},
   "source": [
    "SVD"
   ]
  },
  {
   "cell_type": "code",
   "execution_count": 317,
   "metadata": {},
   "outputs": [
    {
     "name": "stdout",
     "output_type": "stream",
     "text": [
      "RMSE: 0.8550\n",
      "0.8550437139164208\n",
      "MAE:  0.6712\n",
      "0.6711584384605545\n"
     ]
    }
   ],
   "source": [
    "#SVD \n",
    "svd = SVD()\n",
    "#Fit train data\n",
    "algo_svd = svd.fit(train_df)\n",
    "\n",
    "#Predictions\n",
    "prediction_svd = algo_svd.test(test_df)\n",
    "prediction = pd.DataFrame(prediction_svd)\n",
    "\n",
    "print(accuracy.rmse(prediction_svd))\n",
    "print(accuracy.mae(prediction_svd, verbose=True))"
   ]
  },
  {
   "cell_type": "markdown",
   "metadata": {},
   "source": [
    "## SVDpp\n",
    "\n",
    "- Considered as one of the most powerful recommendation systems.\n",
    "- It’s a form of Matrix Factorization that uses Gradient Descent to create predictions for user Ratings while minimizing error between the       predicted and the actual ratings \n",
    "- Gradient descent minimizes the RMSE to a great extent when predicting new ratings.\n",
    "- Just like any other model, after splitting the data we fit the model on train data and test the predictions on test dataset.\n",
    " Parameters of the GridSearchCV to SVD Model can be used to tune the model further.\n"
   ]
  },
  {
   "cell_type": "code",
   "execution_count": 319,
   "metadata": {},
   "outputs": [
    {
     "name": "stdout",
     "output_type": "stream",
     "text": [
      "MAE:  0.6464\n",
      "0.646436060832938\n",
      "RMSE: 0.8415\n",
      "0.8415428309028137\n"
     ]
    }
   ],
   "source": [
    "#SVDpp FIRST RUN\n",
    "svdpp = SVDpp()\n",
    "\n",
    "algo_svdpp = svdpp.fit(train_df)\n",
    "\n",
    "#Predictions\n",
    "predictions_svdpp = algo_svdpp.test(test_df)\n",
    "svd_pred = pd.DataFrame(predictions_svdpp)\n",
    "svd_pred.head()\n",
    "\n",
    "#Accuracy MAE & RMSE\n",
    "print(accuracy.mae(predictions_svdpp, verbose=True))\n",
    "print(accuracy.rmse(predictions_svdpp,verbose = True))"
   ]
  },
  {
   "cell_type": "markdown",
   "metadata": {},
   "source": [
    "## CO-CLUSTERING\n",
    "\n",
    "The algorithm co clustering creates clusters across the users-item matrix. The idea is to make clusters according to the similarities of the pairwise interactions. This algorithm allows users or items to be part of several clusters at the same time, hence the name co-clustering. Then we calculate the estimated ranking of each user or item for each cluster. "
   ]
  },
  {
   "cell_type": "code",
   "execution_count": 320,
   "metadata": {},
   "outputs": [
    {
     "name": "stdout",
     "output_type": "stream",
     "text": [
      "RMSE: 1.0216\n",
      "1.0216057147644062\n",
      "MAE:  0.7862\n",
      "0.7862178637979814\n"
     ]
    }
   ],
   "source": [
    "# Co - clustering\n",
    "coclus = CoClustering()\n",
    "algo_coclus  = coclus.fit(train_df)\n",
    "\n",
    "#Prediction coclus \n",
    "coclus_prediction = algo_coclus.test(test_df)\n",
    "prediction_coclus = pd.DataFrame(coclus_prediction)\n",
    "print(accuracy.rmse(coclus_prediction))\n",
    "print(accuracy.mae(coclus_prediction, verbose=True))"
   ]
  },
  {
   "cell_type": "markdown",
   "metadata": {},
   "source": [
    "Evaluation of the Models"
   ]
  },
  {
   "cell_type": "code",
   "execution_count": 321,
   "metadata": {},
   "outputs": [
    {
     "name": "stdout",
     "output_type": "stream",
     "text": [
      "Excluded 9182 (27851) samples. 18669 remaining ...\n",
      "Excluded 9182 (27851) samples. 18669 remaining ...\n",
      "Excluded 7125 (27851) samples. 20726 remaining ...\n",
      "Excluded 7125 (27851) samples. 20726 remaining ...\n",
      "Excluded 0 (27851) samples. 27851 remaining ...\n",
      "Excluded 0 (27851) samples. 27851 remaining ...\n",
      "Excluded 0 (27851) samples. 27851 remaining ...\n",
      "Excluded 0 (27851) samples. 27851 remaining ...\n",
      "Excluded 0 (27851) samples. 27851 remaining ...\n",
      "Excluded 0 (27851) samples. 27851 remaining ...\n",
      "Excluded 0 (27851) samples. 27851 remaining ...\n",
      "Excluded 0 (27851) samples. 27851 remaining ...\n"
     ]
    }
   ],
   "source": [
    "user_based   = eval.evaluate(prediction= prediction_ub,  topn = 10 , rating_cutoff= 5, excl_impossible=True)\n",
    "item_based  = eval.evaluate(prediction= prediction_ib,  topn = 10 , rating_cutoff= 5, excl_impossible=True)\n",
    "als  = eval.evaluate(prediction= predictions_als,  topn = 10 , rating_cutoff= 5, excl_impossible=True)\n",
    "SVD    = eval.evaluate(prediction= prediction_svd,   topn = 10 , rating_cutoff= 5, excl_impossible=True)\n",
    "SVDpp  = eval.evaluate(prediction= predictions_svdpp,  topn = 10 , rating_cutoff= 5, excl_impossible=True)\n",
    "coclus = eval.evaluate(prediction= coclus_prediction,topn = 10 , rating_cutoff= 5, excl_impossible=True)"
   ]
  },
  {
   "cell_type": "markdown",
   "metadata": {},
   "source": [
    "Results for Colaborative Filtering Approach Algorithms\n",
    "\n",
    "- Out of All, SVDpp has the best performance considering the lowest RMSE"
   ]
  },
  {
   "cell_type": "code",
   "execution_count": 349,
   "metadata": {},
   "outputs": [
    {
     "data": {
      "text/html": [
       "<div>\n",
       "<style scoped>\n",
       "    .dataframe tbody tr th:only-of-type {\n",
       "        vertical-align: middle;\n",
       "    }\n",
       "\n",
       "    .dataframe tbody tr th {\n",
       "        vertical-align: top;\n",
       "    }\n",
       "\n",
       "    .dataframe thead th {\n",
       "        text-align: right;\n",
       "    }\n",
       "</style>\n",
       "<table border=\"1\" class=\"dataframe\">\n",
       "  <thead>\n",
       "    <tr style=\"text-align: right;\">\n",
       "      <th></th>\n",
       "      <th>user_based</th>\n",
       "      <th>item_based</th>\n",
       "      <th>als</th>\n",
       "      <th>SVD</th>\n",
       "      <th>SVDpp</th>\n",
       "      <th>colcus_eval</th>\n",
       "    </tr>\n",
       "  </thead>\n",
       "  <tbody>\n",
       "    <tr>\n",
       "      <th>RMSE</th>\n",
       "      <td>1.411652</td>\n",
       "      <td>0.925803</td>\n",
       "      <td>0.893160</td>\n",
       "      <td>0.855044</td>\n",
       "      <td>0.841543</td>\n",
       "      <td>1.021606</td>\n",
       "    </tr>\n",
       "    <tr>\n",
       "      <th>MAE</th>\n",
       "      <td>1.207146</td>\n",
       "      <td>0.711353</td>\n",
       "      <td>0.735600</td>\n",
       "      <td>0.671158</td>\n",
       "      <td>0.646436</td>\n",
       "      <td>0.786218</td>\n",
       "    </tr>\n",
       "    <tr>\n",
       "      <th>Recall</th>\n",
       "      <td>0.000000</td>\n",
       "      <td>0.124921</td>\n",
       "      <td>0.010741</td>\n",
       "      <td>0.052990</td>\n",
       "      <td>0.090047</td>\n",
       "      <td>0.144826</td>\n",
       "    </tr>\n",
       "    <tr>\n",
       "      <th>Precision</th>\n",
       "      <td>NaN</td>\n",
       "      <td>0.978477</td>\n",
       "      <td>0.952381</td>\n",
       "      <td>0.939683</td>\n",
       "      <td>0.936685</td>\n",
       "      <td>0.763928</td>\n",
       "    </tr>\n",
       "    <tr>\n",
       "      <th>F1</th>\n",
       "      <td>NaN</td>\n",
       "      <td>0.221556</td>\n",
       "      <td>0.021243</td>\n",
       "      <td>0.100322</td>\n",
       "      <td>0.164299</td>\n",
       "      <td>0.243491</td>\n",
       "    </tr>\n",
       "    <tr>\n",
       "      <th>NDCG@10</th>\n",
       "      <td>0.821275</td>\n",
       "      <td>0.820664</td>\n",
       "      <td>0.837394</td>\n",
       "      <td>0.836453</td>\n",
       "      <td>0.839262</td>\n",
       "      <td>0.831483</td>\n",
       "    </tr>\n",
       "  </tbody>\n",
       "</table>\n",
       "</div>"
      ],
      "text/plain": [
       "           user_based  item_based       als       SVD     SVDpp  colcus_eval\n",
       "RMSE         1.411652    0.925803  0.893160  0.855044  0.841543     1.021606\n",
       "MAE          1.207146    0.711353  0.735600  0.671158  0.646436     0.786218\n",
       "Recall       0.000000    0.124921  0.010741  0.052990  0.090047     0.144826\n",
       "Precision         NaN    0.978477  0.952381  0.939683  0.936685     0.763928\n",
       "F1                NaN    0.221556  0.021243  0.100322  0.164299     0.243491\n",
       "NDCG@10      0.821275    0.820664  0.837394  0.836453  0.839262     0.831483"
      ]
     },
     "execution_count": 349,
     "metadata": {},
     "output_type": "execute_result"
    }
   ],
   "source": [
    "eval_results = pd.DataFrame()\n",
    "eval_results['user_based'] = pd.DataFrame(user_based['value'])\n",
    "eval_results['item_based'] = pd.DataFrame(item_based['value'])\n",
    "eval_results['als'] = pd.DataFrame(als['value'])\n",
    "eval_results['SVD'] = pd.DataFrame(SVD['value'])\n",
    "eval_results['SVDpp'] = pd.DataFrame(SVDpp['value'])\n",
    "eval_results['colcus_eval'] = pd.DataFrame(coclus['value'])\n",
    "\n",
    "\n",
    "eval_results"
   ]
  },
  {
   "cell_type": "code",
   "execution_count": 422,
   "metadata": {},
   "outputs": [],
   "source": [
    "from sklearn.linear_model import LogisticRegression\n",
    "from sklearn.neighbors import KNeighborsClassifier\n",
    "from sklearn.svm import SVC\n",
    "from sklearn.ensemble import RandomForestClassifier\n",
    "from sklearn.naive_bayes import GaussianNB\n",
    "from xgboost import XGBClassifier\n",
    "from sklearn import model_selection\n",
    "from sklearn.utils import class_weight\n",
    "from sklearn.metrics import classification_report\n",
    "from sklearn.metrics import confusion_matrix\n",
    "import numpy as np\n",
    "import pandas as pd\n",
    "\n"
   ]
  },
  {
   "cell_type": "markdown",
   "metadata": {},
   "source": [
    "# CROSS VALIDATION FOR SVD and SVDpp"
   ]
  },
  {
   "cell_type": "code",
   "execution_count": 558,
   "metadata": {},
   "outputs": [
    {
     "name": "stdout",
     "output_type": "stream",
     "text": [
      "svd\n",
      "svdpp\n"
     ]
    },
    {
     "data": {
      "text/html": [
       "<div>\n",
       "<style scoped>\n",
       "    .dataframe tbody tr th:only-of-type {\n",
       "        vertical-align: middle;\n",
       "    }\n",
       "\n",
       "    .dataframe tbody tr th {\n",
       "        vertical-align: top;\n",
       "    }\n",
       "\n",
       "    .dataframe thead th {\n",
       "        text-align: right;\n",
       "    }\n",
       "</style>\n",
       "<table border=\"1\" class=\"dataframe\">\n",
       "  <thead>\n",
       "    <tr style=\"text-align: right;\">\n",
       "      <th></th>\n",
       "      <th>test_rmse</th>\n",
       "      <th>test_mae</th>\n",
       "      <th>fit_time</th>\n",
       "      <th>test_time</th>\n",
       "      <th>model</th>\n",
       "    </tr>\n",
       "  </thead>\n",
       "  <tbody>\n",
       "    <tr>\n",
       "      <th>0</th>\n",
       "      <td>0.867027</td>\n",
       "      <td>0.690125</td>\n",
       "      <td>3.843857</td>\n",
       "      <td>0.115983</td>\n",
       "      <td>svd</td>\n",
       "    </tr>\n",
       "    <tr>\n",
       "      <th>1</th>\n",
       "      <td>0.865491</td>\n",
       "      <td>0.688813</td>\n",
       "      <td>4.038660</td>\n",
       "      <td>0.100916</td>\n",
       "      <td>svd</td>\n",
       "    </tr>\n",
       "    <tr>\n",
       "      <th>2</th>\n",
       "      <td>0.879238</td>\n",
       "      <td>0.695492</td>\n",
       "      <td>3.754026</td>\n",
       "      <td>0.091345</td>\n",
       "      <td>svd</td>\n",
       "    </tr>\n",
       "    <tr>\n",
       "      <th>3</th>\n",
       "      <td>0.869963</td>\n",
       "      <td>0.689249</td>\n",
       "      <td>3.921702</td>\n",
       "      <td>0.090982</td>\n",
       "      <td>svd</td>\n",
       "    </tr>\n",
       "    <tr>\n",
       "      <th>4</th>\n",
       "      <td>0.879173</td>\n",
       "      <td>0.697183</td>\n",
       "      <td>3.718243</td>\n",
       "      <td>0.116474</td>\n",
       "      <td>svd</td>\n",
       "    </tr>\n",
       "    <tr>\n",
       "      <th>5</th>\n",
       "      <td>0.848184</td>\n",
       "      <td>0.657391</td>\n",
       "      <td>34.889505</td>\n",
       "      <td>0.619313</td>\n",
       "      <td>svdpp</td>\n",
       "    </tr>\n",
       "    <tr>\n",
       "      <th>6</th>\n",
       "      <td>0.857569</td>\n",
       "      <td>0.664417</td>\n",
       "      <td>35.455840</td>\n",
       "      <td>0.406790</td>\n",
       "      <td>svdpp</td>\n",
       "    </tr>\n",
       "    <tr>\n",
       "      <th>7</th>\n",
       "      <td>0.852406</td>\n",
       "      <td>0.661542</td>\n",
       "      <td>35.223544</td>\n",
       "      <td>0.429820</td>\n",
       "      <td>svdpp</td>\n",
       "    </tr>\n",
       "    <tr>\n",
       "      <th>8</th>\n",
       "      <td>0.855132</td>\n",
       "      <td>0.661581</td>\n",
       "      <td>35.049096</td>\n",
       "      <td>0.707014</td>\n",
       "      <td>svdpp</td>\n",
       "    </tr>\n",
       "    <tr>\n",
       "      <th>9</th>\n",
       "      <td>0.862206</td>\n",
       "      <td>0.664251</td>\n",
       "      <td>35.207806</td>\n",
       "      <td>0.637122</td>\n",
       "      <td>svdpp</td>\n",
       "    </tr>\n",
       "  </tbody>\n",
       "</table>\n",
       "</div>"
      ],
      "text/plain": [
       "   test_rmse  test_mae   fit_time  test_time  model\n",
       "0   0.867027  0.690125   3.843857   0.115983    svd\n",
       "1   0.865491  0.688813   4.038660   0.100916    svd\n",
       "2   0.879238  0.695492   3.754026   0.091345    svd\n",
       "3   0.869963  0.689249   3.921702   0.090982    svd\n",
       "4   0.879173  0.697183   3.718243   0.116474    svd\n",
       "5   0.848184  0.657391  34.889505   0.619313  svdpp\n",
       "6   0.857569  0.664417  35.455840   0.406790  svdpp\n",
       "7   0.852406  0.661542  35.223544   0.429820  svdpp\n",
       "8   0.855132  0.661581  35.049096   0.707014  svdpp\n",
       "9   0.862206  0.664251  35.207806   0.637122  svdpp"
      ]
     },
     "execution_count": 558,
     "metadata": {},
     "output_type": "execute_result"
    }
   ],
   "source": [
    "models  = [ ('svd', SVD()), ('svdpp', SVDpp()) ]\n",
    "dfs     = []\n",
    "results = []\n",
    "names   = []\n",
    "#scoring = ['accuracy', 'precision_weighted', 'recall_weighted', 'f1_weighted', 'roc_auc']\n",
    "\n",
    "for name, model in models:\n",
    "        \n",
    "        cv_results = cross_validate(model ,Dataset.load_from_df(train,reader),measures=['RMSE', 'MAE'],cv=5, verbose=False, n_jobs=-1)\n",
    "        print(name)\n",
    "        \n",
    "        results.append(cv_results)\n",
    "        names.append(name)\n",
    "\n",
    "        this_df = pd.DataFrame(cv_results)\n",
    "        this_df['model'] = name\n",
    "\n",
    "        dfs.append(this_df)\n",
    "        final = pd.concat(dfs, ignore_index=True)\n",
    "final\n"
   ]
  },
  {
   "cell_type": "code",
   "execution_count": 447,
   "metadata": {},
   "outputs": [],
   "source": [
    "# taking the separate df for both svd and svdpp for CV\n",
    "svd = final[final['model'] == 'svd']\n",
    "svpp = final[final['model'] == 'svdpp']"
   ]
  },
  {
   "cell_type": "markdown",
   "metadata": {},
   "source": [
    "CV SVD"
   ]
  },
  {
   "cell_type": "code",
   "execution_count": 448,
   "metadata": {},
   "outputs": [
    {
     "data": {
      "text/html": [
       "<div>\n",
       "<style scoped>\n",
       "    .dataframe tbody tr th:only-of-type {\n",
       "        vertical-align: middle;\n",
       "    }\n",
       "\n",
       "    .dataframe tbody tr th {\n",
       "        vertical-align: top;\n",
       "    }\n",
       "\n",
       "    .dataframe thead th {\n",
       "        text-align: right;\n",
       "    }\n",
       "</style>\n",
       "<table border=\"1\" class=\"dataframe\">\n",
       "  <thead>\n",
       "    <tr style=\"text-align: right;\">\n",
       "      <th></th>\n",
       "      <th>test_rmse</th>\n",
       "      <th>test_mae</th>\n",
       "      <th>fit_time</th>\n",
       "      <th>test_time</th>\n",
       "    </tr>\n",
       "  </thead>\n",
       "  <tbody>\n",
       "    <tr>\n",
       "      <th>0</th>\n",
       "      <td>0.873129</td>\n",
       "      <td>0.692513</td>\n",
       "      <td>6.058778</td>\n",
       "      <td>0.22292</td>\n",
       "    </tr>\n",
       "  </tbody>\n",
       "</table>\n",
       "</div>"
      ],
      "text/plain": [
       "   test_rmse  test_mae  fit_time  test_time\n",
       "0   0.873129  0.692513  6.058778    0.22292"
      ]
     },
     "execution_count": 448,
     "metadata": {},
     "output_type": "execute_result"
    }
   ],
   "source": [
    "pd.DataFrame(svd.mean()).transpose()"
   ]
  },
  {
   "cell_type": "markdown",
   "metadata": {},
   "source": [
    "CV SVDpp"
   ]
  },
  {
   "cell_type": "code",
   "execution_count": 449,
   "metadata": {},
   "outputs": [
    {
     "data": {
      "text/html": [
       "<div>\n",
       "<style scoped>\n",
       "    .dataframe tbody tr th:only-of-type {\n",
       "        vertical-align: middle;\n",
       "    }\n",
       "\n",
       "    .dataframe tbody tr th {\n",
       "        vertical-align: top;\n",
       "    }\n",
       "\n",
       "    .dataframe thead th {\n",
       "        text-align: right;\n",
       "    }\n",
       "</style>\n",
       "<table border=\"1\" class=\"dataframe\">\n",
       "  <thead>\n",
       "    <tr style=\"text-align: right;\">\n",
       "      <th></th>\n",
       "      <th>test_rmse</th>\n",
       "      <th>test_mae</th>\n",
       "      <th>fit_time</th>\n",
       "      <th>test_time</th>\n",
       "    </tr>\n",
       "  </thead>\n",
       "  <tbody>\n",
       "    <tr>\n",
       "      <th>0</th>\n",
       "      <td>0.854933</td>\n",
       "      <td>0.661693</td>\n",
       "      <td>65.811866</td>\n",
       "      <td>0.959362</td>\n",
       "    </tr>\n",
       "  </tbody>\n",
       "</table>\n",
       "</div>"
      ],
      "text/plain": [
       "   test_rmse  test_mae   fit_time  test_time\n",
       "0   0.854933  0.661693  65.811866   0.959362"
      ]
     },
     "execution_count": 449,
     "metadata": {},
     "output_type": "execute_result"
    }
   ],
   "source": [
    "pd.DataFrame(svpp.mean()).transpose()"
   ]
  },
  {
   "cell_type": "markdown",
   "metadata": {},
   "source": [
    "# CONTENT BASED \n",
    "\n",
    "Content based filtering is another approach in the collaborative Filtering that attempts to guess what user may like based on the historical data of that user. It uses the keywords and attributes assigned to objects in a database and matching them to a user profile. "
   ]
  },
  {
   "cell_type": "code",
   "execution_count": 335,
   "metadata": {},
   "outputs": [],
   "source": [
    "user_artists_tags = pd.merge(user_tags,tags , on = 'tagID')"
   ]
  },
  {
   "cell_type": "code",
   "execution_count": 336,
   "metadata": {},
   "outputs": [
    {
     "data": {
      "text/html": [
       "<div>\n",
       "<style scoped>\n",
       "    .dataframe tbody tr th:only-of-type {\n",
       "        vertical-align: middle;\n",
       "    }\n",
       "\n",
       "    .dataframe tbody tr th {\n",
       "        vertical-align: top;\n",
       "    }\n",
       "\n",
       "    .dataframe thead th {\n",
       "        text-align: right;\n",
       "    }\n",
       "</style>\n",
       "<table border=\"1\" class=\"dataframe\">\n",
       "  <thead>\n",
       "    <tr style=\"text-align: right;\">\n",
       "      <th></th>\n",
       "      <th>userID</th>\n",
       "      <th>artistID</th>\n",
       "      <th>tagID</th>\n",
       "      <th>day</th>\n",
       "      <th>month</th>\n",
       "      <th>year</th>\n",
       "      <th>tagValue</th>\n",
       "    </tr>\n",
       "  </thead>\n",
       "  <tbody>\n",
       "    <tr>\n",
       "      <th>0</th>\n",
       "      <td>2</td>\n",
       "      <td>52</td>\n",
       "      <td>13</td>\n",
       "      <td>1</td>\n",
       "      <td>4</td>\n",
       "      <td>2009</td>\n",
       "      <td>chillout</td>\n",
       "    </tr>\n",
       "    <tr>\n",
       "      <th>1</th>\n",
       "      <td>2</td>\n",
       "      <td>63</td>\n",
       "      <td>13</td>\n",
       "      <td>1</td>\n",
       "      <td>4</td>\n",
       "      <td>2009</td>\n",
       "      <td>chillout</td>\n",
       "    </tr>\n",
       "  </tbody>\n",
       "</table>\n",
       "</div>"
      ],
      "text/plain": [
       "   userID  artistID  tagID  day  month  year  tagValue\n",
       "0       2        52     13    1      4  2009  chillout\n",
       "1       2        63     13    1      4  2009  chillout"
      ]
     },
     "execution_count": 336,
     "metadata": {},
     "output_type": "execute_result"
    }
   ],
   "source": [
    "user_artists_tags.head(2)"
   ]
  },
  {
   "cell_type": "markdown",
   "metadata": {},
   "source": [
    "Taking the unique values of the tagValue and grouping by Artists"
   ]
  },
  {
   "cell_type": "code",
   "execution_count": 326,
   "metadata": {},
   "outputs": [],
   "source": [
    "tags_grouped = user_artists_tags.groupby('artistID', as_index=False).agg({'tagValue' : 'unique'})"
   ]
  },
  {
   "cell_type": "code",
   "execution_count": 337,
   "metadata": {},
   "outputs": [],
   "source": [
    "tags_grouped['tagValue'] = tags_grouped['tagValue'].astype(str).str[1:-1]"
   ]
  },
  {
   "cell_type": "code",
   "execution_count": 338,
   "metadata": {},
   "outputs": [
    {
     "data": {
      "text/html": [
       "<div>\n",
       "<style scoped>\n",
       "    .dataframe tbody tr th:only-of-type {\n",
       "        vertical-align: middle;\n",
       "    }\n",
       "\n",
       "    .dataframe tbody tr th {\n",
       "        vertical-align: top;\n",
       "    }\n",
       "\n",
       "    .dataframe thead th {\n",
       "        text-align: right;\n",
       "    }\n",
       "</style>\n",
       "<table border=\"1\" class=\"dataframe\">\n",
       "  <thead>\n",
       "    <tr style=\"text-align: right;\">\n",
       "      <th></th>\n",
       "      <th>artistID</th>\n",
       "      <th>tagValue</th>\n",
       "    </tr>\n",
       "  </thead>\n",
       "  <tbody>\n",
       "    <tr>\n",
       "      <th>0</th>\n",
       "      <td>1</td>\n",
       "      <td>j-rock' 'visual kei' 'gothic' 'japanese' 'weeabo' 'jrock'\\n 'better than lady gaga</td>\n",
       "    </tr>\n",
       "    <tr>\n",
       "      <th>1</th>\n",
       "      <td>2</td>\n",
       "      <td>electronic' 'ambient' 'seen live' 'german' 'industrial' 'gothic'\\n 'gothic rock' 'dark' 'darkwave' 'vocal' 'true goth emo</td>\n",
       "    </tr>\n",
       "    <tr>\n",
       "      <th>2</th>\n",
       "      <td>3</td>\n",
       "      <td>black metal' 'norwegian black metal' 'true norwegian black metal'\\n 'very kvlt' 'norsk arysk metal' 'saxophones</td>\n",
       "    </tr>\n",
       "    <tr>\n",
       "      <th>3</th>\n",
       "      <td>4</td>\n",
       "      <td>rock' 'metal' 'gothic metal' 'j-rock' 'visual kei' 'gothic' 'japanese'\\n 'gothic japanese' 'bazarov</td>\n",
       "    </tr>\n",
       "    <tr>\n",
       "      <th>4</th>\n",
       "      <td>5</td>\n",
       "      <td>gothic' 'gothic rock' 'darkwave' 'deathrock' 'covers</td>\n",
       "    </tr>\n",
       "    <tr>\n",
       "      <th>...</th>\n",
       "      <td>...</td>\n",
       "      <td>...</td>\n",
       "    </tr>\n",
       "    <tr>\n",
       "      <th>12518</th>\n",
       "      <td>18737</td>\n",
       "      <td>80s' 'alternative' 'electronica' 'noise' 'trip beat</td>\n",
       "    </tr>\n",
       "    <tr>\n",
       "      <th>12519</th>\n",
       "      <td>18739</td>\n",
       "      <td>electronic' 'trip-hop' 'rock' 'alternative' 'alternative rock' 'uk'\\n 'electronica' 'favorite</td>\n",
       "    </tr>\n",
       "    <tr>\n",
       "      <th>12520</th>\n",
       "      <td>18740</td>\n",
       "      <td>ebm' 'industrial</td>\n",
       "    </tr>\n",
       "    <tr>\n",
       "      <th>12521</th>\n",
       "      <td>18741</td>\n",
       "      <td>experimental' 'dead music</td>\n",
       "    </tr>\n",
       "    <tr>\n",
       "      <th>12522</th>\n",
       "      <td>18744</td>\n",
       "      <td>chillout' 'downtempo' 'ambient' 'avant-garde' 'alternative'\\n 'electronica' 'dark electro' 'dark ambient' 'trip hop' 'nu jazz'\\n 'aphex twin' 'trip beat' '-pearl fashion music' 'low tempo</td>\n",
       "    </tr>\n",
       "  </tbody>\n",
       "</table>\n",
       "<p>12523 rows × 2 columns</p>\n",
       "</div>"
      ],
      "text/plain": [
       "       artistID  \\\n",
       "0             1   \n",
       "1             2   \n",
       "2             3   \n",
       "3             4   \n",
       "4             5   \n",
       "...         ...   \n",
       "12518     18737   \n",
       "12519     18739   \n",
       "12520     18740   \n",
       "12521     18741   \n",
       "12522     18744   \n",
       "\n",
       "                                                                                                                                                                                          tagValue  \n",
       "0                                                                                                               j-rock' 'visual kei' 'gothic' 'japanese' 'weeabo' 'jrock'\\n 'better than lady gaga  \n",
       "1                                                                        electronic' 'ambient' 'seen live' 'german' 'industrial' 'gothic'\\n 'gothic rock' 'dark' 'darkwave' 'vocal' 'true goth emo  \n",
       "2                                                                                  black metal' 'norwegian black metal' 'true norwegian black metal'\\n 'very kvlt' 'norsk arysk metal' 'saxophones  \n",
       "3                                                                                              rock' 'metal' 'gothic metal' 'j-rock' 'visual kei' 'gothic' 'japanese'\\n 'gothic japanese' 'bazarov  \n",
       "4                                                                                                                                             gothic' 'gothic rock' 'darkwave' 'deathrock' 'covers  \n",
       "...                                                                                                                                                                                            ...  \n",
       "12518                                                                                                                                          80s' 'alternative' 'electronica' 'noise' 'trip beat  \n",
       "12519                                                                                                electronic' 'trip-hop' 'rock' 'alternative' 'alternative rock' 'uk'\\n 'electronica' 'favorite  \n",
       "12520                                                                                                                                                                             ebm' 'industrial  \n",
       "12521                                                                                                                                                                    experimental' 'dead music  \n",
       "12522  chillout' 'downtempo' 'ambient' 'avant-garde' 'alternative'\\n 'electronica' 'dark electro' 'dark ambient' 'trip hop' 'nu jazz'\\n 'aphex twin' 'trip beat' '-pearl fashion music' 'low tempo  \n",
       "\n",
       "[12523 rows x 2 columns]"
      ]
     },
     "execution_count": 338,
     "metadata": {},
     "output_type": "execute_result"
    }
   ],
   "source": [
    "tags_grouped"
   ]
  },
  {
   "cell_type": "code",
   "execution_count": 339,
   "metadata": {},
   "outputs": [],
   "source": [
    "# Tokenize, case conversion & only alphabetic\n",
    "tokens = tags_grouped['tagValue'].apply(lambda txt: [word.lower() for word in word_tokenize(str(txt)) if word.isalpha()])"
   ]
  },
  {
   "cell_type": "code",
   "execution_count": 340,
   "metadata": {},
   "outputs": [],
   "source": [
    "#stemming\n",
    "stemmer = SnowballStemmer(\"english\")\n",
    "\n",
    "# remove stopwords\n",
    "# stem\n",
    "token_stem = tokens.apply(lambda lst_token: [stemmer.stem(tok) for tok in lst_token if  len(tok) > 2])"
   ]
  },
  {
   "cell_type": "markdown",
   "metadata": {},
   "source": [
    "TFIDF"
   ]
  },
  {
   "cell_type": "code",
   "execution_count": 341,
   "metadata": {},
   "outputs": [
    {
     "name": "stdout",
     "output_type": "stream",
     "text": [
      "(12523, 841)\n"
     ]
    },
    {
     "data": {
      "text/html": [
       "<div>\n",
       "<style scoped>\n",
       "    .dataframe tbody tr th:only-of-type {\n",
       "        vertical-align: middle;\n",
       "    }\n",
       "\n",
       "    .dataframe tbody tr th {\n",
       "        vertical-align: top;\n",
       "    }\n",
       "\n",
       "    .dataframe thead th {\n",
       "        text-align: right;\n",
       "    }\n",
       "</style>\n",
       "<table border=\"1\" class=\"dataframe\">\n",
       "  <thead>\n",
       "    <tr style=\"text-align: right;\">\n",
       "      <th></th>\n",
       "      <th>about</th>\n",
       "      <th>absolut</th>\n",
       "      <th>abstract</th>\n",
       "      <th>acid</th>\n",
       "      <th>acoust</th>\n",
       "      <th>actual</th>\n",
       "      <th>adam</th>\n",
       "      <th>africa</th>\n",
       "      <th>african</th>\n",
       "      <th>again</th>\n",
       "      <th>...</th>\n",
       "      <th>yeah</th>\n",
       "      <th>yet</th>\n",
       "      <th>york</th>\n",
       "      <th>yorkshir</th>\n",
       "      <th>you</th>\n",
       "      <th>young</th>\n",
       "      <th>your</th>\n",
       "      <th>yourself</th>\n",
       "      <th>zealand</th>\n",
       "      <th>zone</th>\n",
       "    </tr>\n",
       "    <tr>\n",
       "      <th>artistID</th>\n",
       "      <th></th>\n",
       "      <th></th>\n",
       "      <th></th>\n",
       "      <th></th>\n",
       "      <th></th>\n",
       "      <th></th>\n",
       "      <th></th>\n",
       "      <th></th>\n",
       "      <th></th>\n",
       "      <th></th>\n",
       "      <th></th>\n",
       "      <th></th>\n",
       "      <th></th>\n",
       "      <th></th>\n",
       "      <th></th>\n",
       "      <th></th>\n",
       "      <th></th>\n",
       "      <th></th>\n",
       "      <th></th>\n",
       "      <th></th>\n",
       "      <th></th>\n",
       "    </tr>\n",
       "  </thead>\n",
       "  <tbody>\n",
       "    <tr>\n",
       "      <th>1</th>\n",
       "      <td>0.0</td>\n",
       "      <td>0.0</td>\n",
       "      <td>0.0</td>\n",
       "      <td>0.0</td>\n",
       "      <td>0.0</td>\n",
       "      <td>0.0</td>\n",
       "      <td>0.0</td>\n",
       "      <td>0.0</td>\n",
       "      <td>0.0</td>\n",
       "      <td>0.0</td>\n",
       "      <td>...</td>\n",
       "      <td>0.0</td>\n",
       "      <td>0.0</td>\n",
       "      <td>0.0</td>\n",
       "      <td>0.0</td>\n",
       "      <td>0.0</td>\n",
       "      <td>0.0</td>\n",
       "      <td>0.0</td>\n",
       "      <td>0.0</td>\n",
       "      <td>0.0</td>\n",
       "      <td>0.0</td>\n",
       "    </tr>\n",
       "    <tr>\n",
       "      <th>2</th>\n",
       "      <td>0.0</td>\n",
       "      <td>0.0</td>\n",
       "      <td>0.0</td>\n",
       "      <td>0.0</td>\n",
       "      <td>0.0</td>\n",
       "      <td>0.0</td>\n",
       "      <td>0.0</td>\n",
       "      <td>0.0</td>\n",
       "      <td>0.0</td>\n",
       "      <td>0.0</td>\n",
       "      <td>...</td>\n",
       "      <td>0.0</td>\n",
       "      <td>0.0</td>\n",
       "      <td>0.0</td>\n",
       "      <td>0.0</td>\n",
       "      <td>0.0</td>\n",
       "      <td>0.0</td>\n",
       "      <td>0.0</td>\n",
       "      <td>0.0</td>\n",
       "      <td>0.0</td>\n",
       "      <td>0.0</td>\n",
       "    </tr>\n",
       "    <tr>\n",
       "      <th>3</th>\n",
       "      <td>0.0</td>\n",
       "      <td>0.0</td>\n",
       "      <td>0.0</td>\n",
       "      <td>0.0</td>\n",
       "      <td>0.0</td>\n",
       "      <td>0.0</td>\n",
       "      <td>0.0</td>\n",
       "      <td>0.0</td>\n",
       "      <td>0.0</td>\n",
       "      <td>0.0</td>\n",
       "      <td>...</td>\n",
       "      <td>0.0</td>\n",
       "      <td>0.0</td>\n",
       "      <td>0.0</td>\n",
       "      <td>0.0</td>\n",
       "      <td>0.0</td>\n",
       "      <td>0.0</td>\n",
       "      <td>0.0</td>\n",
       "      <td>0.0</td>\n",
       "      <td>0.0</td>\n",
       "      <td>0.0</td>\n",
       "    </tr>\n",
       "    <tr>\n",
       "      <th>4</th>\n",
       "      <td>0.0</td>\n",
       "      <td>0.0</td>\n",
       "      <td>0.0</td>\n",
       "      <td>0.0</td>\n",
       "      <td>0.0</td>\n",
       "      <td>0.0</td>\n",
       "      <td>0.0</td>\n",
       "      <td>0.0</td>\n",
       "      <td>0.0</td>\n",
       "      <td>0.0</td>\n",
       "      <td>...</td>\n",
       "      <td>0.0</td>\n",
       "      <td>0.0</td>\n",
       "      <td>0.0</td>\n",
       "      <td>0.0</td>\n",
       "      <td>0.0</td>\n",
       "      <td>0.0</td>\n",
       "      <td>0.0</td>\n",
       "      <td>0.0</td>\n",
       "      <td>0.0</td>\n",
       "      <td>0.0</td>\n",
       "    </tr>\n",
       "    <tr>\n",
       "      <th>5</th>\n",
       "      <td>0.0</td>\n",
       "      <td>0.0</td>\n",
       "      <td>0.0</td>\n",
       "      <td>0.0</td>\n",
       "      <td>0.0</td>\n",
       "      <td>0.0</td>\n",
       "      <td>0.0</td>\n",
       "      <td>0.0</td>\n",
       "      <td>0.0</td>\n",
       "      <td>0.0</td>\n",
       "      <td>...</td>\n",
       "      <td>0.0</td>\n",
       "      <td>0.0</td>\n",
       "      <td>0.0</td>\n",
       "      <td>0.0</td>\n",
       "      <td>0.0</td>\n",
       "      <td>0.0</td>\n",
       "      <td>0.0</td>\n",
       "      <td>0.0</td>\n",
       "      <td>0.0</td>\n",
       "      <td>0.0</td>\n",
       "    </tr>\n",
       "  </tbody>\n",
       "</table>\n",
       "<p>5 rows × 841 columns</p>\n",
       "</div>"
      ],
      "text/plain": [
       "          about  absolut  abstract  acid  acoust  actual  adam  africa  \\\n",
       "artistID                                                                 \n",
       "1           0.0      0.0       0.0   0.0     0.0     0.0   0.0     0.0   \n",
       "2           0.0      0.0       0.0   0.0     0.0     0.0   0.0     0.0   \n",
       "3           0.0      0.0       0.0   0.0     0.0     0.0   0.0     0.0   \n",
       "4           0.0      0.0       0.0   0.0     0.0     0.0   0.0     0.0   \n",
       "5           0.0      0.0       0.0   0.0     0.0     0.0   0.0     0.0   \n",
       "\n",
       "          african  again  ...  yeah  yet  york  yorkshir  you  young  your  \\\n",
       "artistID                  ...                                                \n",
       "1             0.0    0.0  ...   0.0  0.0   0.0       0.0  0.0    0.0   0.0   \n",
       "2             0.0    0.0  ...   0.0  0.0   0.0       0.0  0.0    0.0   0.0   \n",
       "3             0.0    0.0  ...   0.0  0.0   0.0       0.0  0.0    0.0   0.0   \n",
       "4             0.0    0.0  ...   0.0  0.0   0.0       0.0  0.0    0.0   0.0   \n",
       "5             0.0    0.0  ...   0.0  0.0   0.0       0.0  0.0    0.0   0.0   \n",
       "\n",
       "          yourself  zealand  zone  \n",
       "artistID                           \n",
       "1              0.0      0.0   0.0  \n",
       "2              0.0      0.0   0.0  \n",
       "3              0.0      0.0   0.0  \n",
       "4              0.0      0.0   0.0  \n",
       "5              0.0      0.0   0.0  \n",
       "\n",
       "[5 rows x 841 columns]"
      ]
     },
     "execution_count": 341,
     "metadata": {},
     "output_type": "execute_result"
    }
   ],
   "source": [
    "# TFIDF vectorizer\n",
    "tfidf = TfidfVectorizer(min_df=5)\n",
    "\n",
    "# apply tf-idf vectorizer -> document-term-matrix in sparse format\n",
    "dtm = tfidf.fit_transform([\" \".join(x) for x in token_stem])\n",
    "\n",
    "print(dtm.shape)\n",
    "\n",
    "df_dtm = pd.DataFrame(dtm.toarray(), columns=tfidf.get_feature_names_out(), index=tags_grouped.artistID\t)\n",
    "df_dtm.head()"
   ]
  },
  {
   "cell_type": "code",
   "execution_count": 420,
   "metadata": {},
   "outputs": [
    {
     "data": {
      "text/html": [
       "<div>\n",
       "<style scoped>\n",
       "    .dataframe tbody tr th:only-of-type {\n",
       "        vertical-align: middle;\n",
       "    }\n",
       "\n",
       "    .dataframe tbody tr th {\n",
       "        vertical-align: top;\n",
       "    }\n",
       "\n",
       "    .dataframe thead th {\n",
       "        text-align: right;\n",
       "    }\n",
       "</style>\n",
       "<table border=\"1\" class=\"dataframe\">\n",
       "  <thead>\n",
       "    <tr style=\"text-align: right;\">\n",
       "      <th></th>\n",
       "      <th>token</th>\n",
       "      <th>count</th>\n",
       "    </tr>\n",
       "  </thead>\n",
       "  <tbody>\n",
       "    <tr>\n",
       "      <th>0</th>\n",
       "      <td>rock</td>\n",
       "      <td>6564</td>\n",
       "    </tr>\n",
       "    <tr>\n",
       "      <th>1</th>\n",
       "      <td>metal</td>\n",
       "      <td>2985</td>\n",
       "    </tr>\n",
       "    <tr>\n",
       "      <th>2</th>\n",
       "      <td>pop</td>\n",
       "      <td>2544</td>\n",
       "    </tr>\n",
       "    <tr>\n",
       "      <th>3</th>\n",
       "      <td>vocalist</td>\n",
       "      <td>2338</td>\n",
       "    </tr>\n",
       "    <tr>\n",
       "      <th>4</th>\n",
       "      <td>song</td>\n",
       "      <td>1883</td>\n",
       "    </tr>\n",
       "    <tr>\n",
       "      <th>5</th>\n",
       "      <td>electron</td>\n",
       "      <td>1374</td>\n",
       "    </tr>\n",
       "    <tr>\n",
       "      <th>6</th>\n",
       "      <td>live</td>\n",
       "      <td>1001</td>\n",
       "    </tr>\n",
       "    <tr>\n",
       "      <th>7</th>\n",
       "      <td>music</td>\n",
       "      <td>754</td>\n",
       "    </tr>\n",
       "    <tr>\n",
       "      <th>8</th>\n",
       "      <td>the</td>\n",
       "      <td>744</td>\n",
       "    </tr>\n",
       "    <tr>\n",
       "      <th>9</th>\n",
       "      <td>chillout</td>\n",
       "      <td>734</td>\n",
       "    </tr>\n",
       "  </tbody>\n",
       "</table>\n",
       "</div>"
      ],
      "text/plain": [
       "      token  count\n",
       "0      rock   6564\n",
       "1     metal   2985\n",
       "2       pop   2544\n",
       "3  vocalist   2338\n",
       "4      song   1883\n",
       "5  electron   1374\n",
       "6      live   1001\n",
       "7     music    754\n",
       "8       the    744\n",
       "9  chillout    734"
      ]
     },
     "execution_count": 420,
     "metadata": {},
     "output_type": "execute_result"
    }
   ],
   "source": [
    "# count word occurences in text preprocessed corpus \n",
    "from collections import Counter\n",
    "\n",
    "res_l = []\n",
    "for l in token_stem: res_l+=l\n",
    "\n",
    "token_dict = Counter(res_l)\n",
    "token_dict = {k: v for k, v in sorted(token_dict.items(), key=lambda item: item[1], reverse=True)}\n",
    "token_Df = pd.DataFrame(token_dict.items(), columns=['token', 'count'])[:10]\n",
    "token_Df"
   ]
  },
  {
   "cell_type": "code",
   "execution_count": 560,
   "metadata": {},
   "outputs": [
    {
     "data": {
      "image/png": "[encoded data removed]",
      "text/plain": [
       "<Figure size 432x288 with 1 Axes>"
      ]
     },
     "metadata": {
      "needs_background": "light"
     },
     "output_type": "display_data"
    }
   ],
   "source": [
    "# Check the distribution of the tokens\n",
    "\n",
    "x = token_Df.plot.bar(x = 'token', y = 'count')"
   ]
  },
  {
   "cell_type": "markdown",
   "metadata": {},
   "source": [
    "Content Based Fitting the Model"
   ]
  },
  {
   "cell_type": "code",
   "execution_count": 343,
   "metadata": {},
   "outputs": [],
   "source": [
    "# content-based\n",
    "cb = ContentBased(NN=10)\n",
    "cb.fit(df_dtm)"
   ]
  },
  {
   "cell_type": "code",
   "execution_count": null,
   "metadata": {},
   "outputs": [],
   "source": [
    "#Fitting the content based on the train set \n",
    "cb.fit_ratings(train_df)"
   ]
  },
  {
   "cell_type": "code",
   "execution_count": 345,
   "metadata": {},
   "outputs": [],
   "source": [
    "#Predicting on the test set \n",
    "cb_pred = cb.test(test_df)"
   ]
  },
  {
   "cell_type": "code",
   "execution_count": 346,
   "metadata": {},
   "outputs": [
    {
     "data": {
      "text/html": [
       "<div>\n",
       "<style scoped>\n",
       "    .dataframe tbody tr th:only-of-type {\n",
       "        vertical-align: middle;\n",
       "    }\n",
       "\n",
       "    .dataframe tbody tr th {\n",
       "        vertical-align: top;\n",
       "    }\n",
       "\n",
       "    .dataframe thead th {\n",
       "        text-align: right;\n",
       "    }\n",
       "</style>\n",
       "<table border=\"1\" class=\"dataframe\">\n",
       "  <thead>\n",
       "    <tr style=\"text-align: right;\">\n",
       "      <th></th>\n",
       "      <th>Content_based_10</th>\n",
       "    </tr>\n",
       "  </thead>\n",
       "  <tbody>\n",
       "    <tr>\n",
       "      <th>RMSE</th>\n",
       "      <td>0.969124</td>\n",
       "    </tr>\n",
       "    <tr>\n",
       "      <th>MAE</th>\n",
       "      <td>0.736876</td>\n",
       "    </tr>\n",
       "    <tr>\n",
       "      <th>Recall</th>\n",
       "      <td>0.145900</td>\n",
       "    </tr>\n",
       "    <tr>\n",
       "      <th>Precision</th>\n",
       "      <td>0.971395</td>\n",
       "    </tr>\n",
       "    <tr>\n",
       "      <th>F1</th>\n",
       "      <td>0.253696</td>\n",
       "    </tr>\n",
       "    <tr>\n",
       "      <th>NDCG@10</th>\n",
       "      <td>0.856146</td>\n",
       "    </tr>\n",
       "  </tbody>\n",
       "</table>\n",
       "</div>"
      ],
      "text/plain": [
       "           Content_based_10\n",
       "RMSE               0.969124\n",
       "MAE                0.736876\n",
       "Recall             0.145900\n",
       "Precision          0.971395\n",
       "F1                 0.253696\n",
       "NDCG@10            0.856146"
      ]
     },
     "execution_count": 346,
     "metadata": {},
     "output_type": "execute_result"
    }
   ],
   "source": [
    "# compute metrics - Content Based\n",
    "cb_res = eval.evaluate(cb_pred, topn=10, rating_cutoff=5).rename(columns={'value':'Content_based_10'})\n",
    "cb_res"
   ]
  },
  {
   "cell_type": "code",
   "execution_count": 267,
   "metadata": {},
   "outputs": [],
   "source": [
    "from IESEG import eval"
   ]
  },
  {
   "cell_type": "markdown",
   "metadata": {},
   "source": [
    "Evaluating Content Based "
   ]
  },
  {
   "cell_type": "code",
   "execution_count": 350,
   "metadata": {},
   "outputs": [
    {
     "name": "stdout",
     "output_type": "stream",
     "text": [
      "Excluded 3918 (27851) samples. 23933 remaining ...\n",
      "Excluded 3918 (27851) samples. 23933 remaining ...\n"
     ]
    }
   ],
   "source": [
    "content_based = eval.evaluate(prediction= cb_pred,topn = 10 , rating_cutoff= 5, excl_impossible=True)\n"
   ]
  },
  {
   "cell_type": "markdown",
   "metadata": {},
   "source": [
    "Results\n",
    "\n",
    "- From the Results we can see that Content based performs better than ot of models but in our case, SVD still performs better than any other Model"
   ]
  },
  {
   "cell_type": "code",
   "execution_count": 351,
   "metadata": {},
   "outputs": [
    {
     "data": {
      "text/html": [
       "<div>\n",
       "<style scoped>\n",
       "    .dataframe tbody tr th:only-of-type {\n",
       "        vertical-align: middle;\n",
       "    }\n",
       "\n",
       "    .dataframe tbody tr th {\n",
       "        vertical-align: top;\n",
       "    }\n",
       "\n",
       "    .dataframe thead th {\n",
       "        text-align: right;\n",
       "    }\n",
       "</style>\n",
       "<table border=\"1\" class=\"dataframe\">\n",
       "  <thead>\n",
       "    <tr style=\"text-align: right;\">\n",
       "      <th></th>\n",
       "      <th>user_based</th>\n",
       "      <th>item_based</th>\n",
       "      <th>als</th>\n",
       "      <th>SVD</th>\n",
       "      <th>SVDpp</th>\n",
       "      <th>colcus_eval</th>\n",
       "      <th>cont_based_eval</th>\n",
       "    </tr>\n",
       "  </thead>\n",
       "  <tbody>\n",
       "    <tr>\n",
       "      <th>RMSE</th>\n",
       "      <td>1.411652</td>\n",
       "      <td>0.925803</td>\n",
       "      <td>0.893160</td>\n",
       "      <td>0.855044</td>\n",
       "      <td>0.841543</td>\n",
       "      <td>1.021606</td>\n",
       "      <td>0.873023</td>\n",
       "    </tr>\n",
       "    <tr>\n",
       "      <th>MAE</th>\n",
       "      <td>1.207146</td>\n",
       "      <td>0.711353</td>\n",
       "      <td>0.735600</td>\n",
       "      <td>0.671158</td>\n",
       "      <td>0.646436</td>\n",
       "      <td>0.786218</td>\n",
       "      <td>0.660316</td>\n",
       "    </tr>\n",
       "    <tr>\n",
       "      <th>Recall</th>\n",
       "      <td>0.000000</td>\n",
       "      <td>0.124921</td>\n",
       "      <td>0.010741</td>\n",
       "      <td>0.052990</td>\n",
       "      <td>0.090047</td>\n",
       "      <td>0.144826</td>\n",
       "      <td>0.162125</td>\n",
       "    </tr>\n",
       "    <tr>\n",
       "      <th>Precision</th>\n",
       "      <td>NaN</td>\n",
       "      <td>0.978477</td>\n",
       "      <td>0.952381</td>\n",
       "      <td>0.939683</td>\n",
       "      <td>0.936685</td>\n",
       "      <td>0.763928</td>\n",
       "      <td>0.971395</td>\n",
       "    </tr>\n",
       "    <tr>\n",
       "      <th>F1</th>\n",
       "      <td>NaN</td>\n",
       "      <td>0.221556</td>\n",
       "      <td>0.021243</td>\n",
       "      <td>0.100322</td>\n",
       "      <td>0.164299</td>\n",
       "      <td>0.243491</td>\n",
       "      <td>0.277872</td>\n",
       "    </tr>\n",
       "    <tr>\n",
       "      <th>NDCG@10</th>\n",
       "      <td>0.821275</td>\n",
       "      <td>0.820664</td>\n",
       "      <td>0.837394</td>\n",
       "      <td>0.836453</td>\n",
       "      <td>0.839262</td>\n",
       "      <td>0.831483</td>\n",
       "      <td>0.872116</td>\n",
       "    </tr>\n",
       "  </tbody>\n",
       "</table>\n",
       "</div>"
      ],
      "text/plain": [
       "           user_based  item_based       als       SVD     SVDpp  colcus_eval  \\\n",
       "RMSE         1.411652    0.925803  0.893160  0.855044  0.841543     1.021606   \n",
       "MAE          1.207146    0.711353  0.735600  0.671158  0.646436     0.786218   \n",
       "Recall       0.000000    0.124921  0.010741  0.052990  0.090047     0.144826   \n",
       "Precision         NaN    0.978477  0.952381  0.939683  0.936685     0.763928   \n",
       "F1                NaN    0.221556  0.021243  0.100322  0.164299     0.243491   \n",
       "NDCG@10      0.821275    0.820664  0.837394  0.836453  0.839262     0.831483   \n",
       "\n",
       "           cont_based_eval  \n",
       "RMSE              0.873023  \n",
       "MAE               0.660316  \n",
       "Recall            0.162125  \n",
       "Precision         0.971395  \n",
       "F1                0.277872  \n",
       "NDCG@10           0.872116  "
      ]
     },
     "execution_count": 351,
     "metadata": {},
     "output_type": "execute_result"
    }
   ],
   "source": [
    "#concating content based results \n",
    "eval_results['cont_based_eval'] = pd.DataFrame(content_based['value'])\n",
    "eval_results  "
   ]
  },
  {
   "cell_type": "markdown",
   "metadata": {},
   "source": [
    "# Hybrid \n",
    "\n",
    "This is a special type of recommendation system which is a combination of content based and collaborative approaches. This approach might help in mitigating the issues of collaborative filtering and can be more effective at times.\n",
    "Hybrid model can be done in multiple ways either by choosing two collaborative models or one collaborative model combined with the content based using content and collaborative-based methods to generate predictions separately and then combining the prediction or we can just add the capabilities of collaborative-based methods to a content-based approach. Here we have tried both the approaches and observed that the combination of Content based, and Collaborative with the Random Forest Model produced better results.\n"
   ]
  },
  {
   "cell_type": "code",
   "execution_count": 74,
   "metadata": {},
   "outputs": [
    {
     "data": {
      "text/html": [
       "<div>\n",
       "<style scoped>\n",
       "    .dataframe tbody tr th:only-of-type {\n",
       "        vertical-align: middle;\n",
       "    }\n",
       "\n",
       "    .dataframe tbody tr th {\n",
       "        vertical-align: top;\n",
       "    }\n",
       "\n",
       "    .dataframe thead th {\n",
       "        text-align: right;\n",
       "    }\n",
       "</style>\n",
       "<table border=\"1\" class=\"dataframe\">\n",
       "  <thead>\n",
       "    <tr style=\"text-align: right;\">\n",
       "      <th></th>\n",
       "      <th>userID</th>\n",
       "      <th>artistID</th>\n",
       "      <th>weight</th>\n",
       "      <th>rating</th>\n",
       "    </tr>\n",
       "  </thead>\n",
       "  <tbody>\n",
       "    <tr>\n",
       "      <th>0</th>\n",
       "      <td>2</td>\n",
       "      <td>51</td>\n",
       "      <td>0.039360</td>\n",
       "      <td>5</td>\n",
       "    </tr>\n",
       "    <tr>\n",
       "      <th>1</th>\n",
       "      <td>2</td>\n",
       "      <td>52</td>\n",
       "      <td>0.033142</td>\n",
       "      <td>5</td>\n",
       "    </tr>\n",
       "    <tr>\n",
       "      <th>2</th>\n",
       "      <td>2</td>\n",
       "      <td>53</td>\n",
       "      <td>0.032181</td>\n",
       "      <td>5</td>\n",
       "    </tr>\n",
       "    <tr>\n",
       "      <th>3</th>\n",
       "      <td>2</td>\n",
       "      <td>54</td>\n",
       "      <td>0.029201</td>\n",
       "      <td>5</td>\n",
       "    </tr>\n",
       "    <tr>\n",
       "      <th>4</th>\n",
       "      <td>2</td>\n",
       "      <td>55</td>\n",
       "      <td>0.025467</td>\n",
       "      <td>5</td>\n",
       "    </tr>\n",
       "  </tbody>\n",
       "</table>\n",
       "</div>"
      ],
      "text/plain": [
       "   userID  artistID    weight  rating\n",
       "0       2        51  0.039360       5\n",
       "1       2        52  0.033142       5\n",
       "2       2        53  0.032181       5\n",
       "3       2        54  0.029201       5\n",
       "4       2        55  0.025467       5"
      ]
     },
     "execution_count": 74,
     "metadata": {},
     "output_type": "execute_result"
    }
   ],
   "source": [
    "user_artists.head(5)"
   ]
  },
  {
   "cell_type": "code",
   "execution_count": 75,
   "metadata": {},
   "outputs": [],
   "source": [
    "user_artists = user_artists[['userID','artistID','rating']]"
   ]
  },
  {
   "cell_type": "code",
   "execution_count": null,
   "metadata": {},
   "outputs": [],
   "source": [
    "# content-based\n",
    "cb = ContentBased(NN=10)\n",
    "cb.fit(df_dtm)\n",
    "cb.fit_ratings(train_df)\n",
    "cb_pred = cb.test(test_df)\n",
    "\n",
    "# item-based\n",
    "options = {'name':'cosine', 'user_based':False}\n",
    "ib = KNNBasic(k=15, min_k=5, sim_options=options, random_state=42)\n",
    "ib.fit(train_df)\n",
    "ib_pred = ib.test(test_df)\n",
    "\n",
    "# svd\n",
    "svd = SVD()\n",
    "svd.fit(train_df)\n",
    "mf_pred = svd.test(test_df)\n",
    "\n",
    "#svdpp\n",
    "svdpp.fit(train_df)\n",
    "svdpp_pred = svdpp.test(test_df)\n",
    "\n",
    "models = {\"Content_based\":cb_pred, \"Item_based\":ib_pred,\"SVD\": mf_pred ,\"SVP_PP\" :svdpp_pred }\n",
    "overview = pd.concat([eval.evaluate(mod, topn=5, rating_cutoff=5) for mod in models.values()], axis=1)\n",
    "overview.columns = list(models.keys())\n",
    "overview"
   ]
  },
  {
   "cell_type": "code",
   "execution_count": 565,
   "metadata": {},
   "outputs": [
    {
     "data": {
      "text/html": [
       "<div>\n",
       "<style scoped>\n",
       "    .dataframe tbody tr th:only-of-type {\n",
       "        vertical-align: middle;\n",
       "    }\n",
       "\n",
       "    .dataframe tbody tr th {\n",
       "        vertical-align: top;\n",
       "    }\n",
       "\n",
       "    .dataframe thead th {\n",
       "        text-align: right;\n",
       "    }\n",
       "</style>\n",
       "<table border=\"1\" class=\"dataframe\">\n",
       "  <thead>\n",
       "    <tr style=\"text-align: right;\">\n",
       "      <th></th>\n",
       "      <th>Content_based</th>\n",
       "      <th>Item_based</th>\n",
       "      <th>SVD</th>\n",
       "      <th>SVP_PP</th>\n",
       "    </tr>\n",
       "  </thead>\n",
       "  <tbody>\n",
       "    <tr>\n",
       "      <th>RMSE</th>\n",
       "      <td>0.969124</td>\n",
       "      <td>1.074782</td>\n",
       "      <td>0.853805</td>\n",
       "      <td>0.843264</td>\n",
       "    </tr>\n",
       "    <tr>\n",
       "      <th>MAE</th>\n",
       "      <td>0.736876</td>\n",
       "      <td>0.834757</td>\n",
       "      <td>0.670040</td>\n",
       "      <td>0.647726</td>\n",
       "    </tr>\n",
       "    <tr>\n",
       "      <th>Recall</th>\n",
       "      <td>0.145900</td>\n",
       "      <td>0.108127</td>\n",
       "      <td>0.053706</td>\n",
       "      <td>0.088256</td>\n",
       "    </tr>\n",
       "    <tr>\n",
       "      <th>Precision</th>\n",
       "      <td>0.971395</td>\n",
       "      <td>0.977346</td>\n",
       "      <td>0.923077</td>\n",
       "      <td>0.940840</td>\n",
       "    </tr>\n",
       "    <tr>\n",
       "      <th>F1</th>\n",
       "      <td>0.253696</td>\n",
       "      <td>0.194713</td>\n",
       "      <td>0.101506</td>\n",
       "      <td>0.161375</td>\n",
       "    </tr>\n",
       "    <tr>\n",
       "      <th>NDCG@5</th>\n",
       "      <td>0.871632</td>\n",
       "      <td>0.855155</td>\n",
       "      <td>0.852133</td>\n",
       "      <td>0.855042</td>\n",
       "    </tr>\n",
       "  </tbody>\n",
       "</table>\n",
       "</div>"
      ],
      "text/plain": [
       "           Content_based  Item_based       SVD    SVP_PP\n",
       "RMSE            0.969124    1.074782  0.853805  0.843264\n",
       "MAE             0.736876    0.834757  0.670040  0.647726\n",
       "Recall          0.145900    0.108127  0.053706  0.088256\n",
       "Precision       0.971395    0.977346  0.923077  0.940840\n",
       "F1              0.253696    0.194713  0.101506  0.161375\n",
       "NDCG@5          0.871632    0.855155  0.852133  0.855042"
      ]
     },
     "execution_count": 565,
     "metadata": {},
     "output_type": "execute_result"
    }
   ],
   "source": [
    "overview"
   ]
  },
  {
   "cell_type": "markdown",
   "metadata": {},
   "source": [
    "# Cross Validation for SVDpp"
   ]
  },
  {
   "cell_type": "code",
   "execution_count": 566,
   "metadata": {},
   "outputs": [],
   "source": [
    "from surprise.model_selection import cross_validate\n",
    "\n",
    "crs_val = pd.DataFrame(cross_validate(svdpp ,Dataset.load_from_df(train,reader),measures=['RMSE', 'MAE'],cv=5, verbose=False, n_jobs=-1))"
   ]
  },
  {
   "cell_type": "code",
   "execution_count": 567,
   "metadata": {},
   "outputs": [
    {
     "data": {
      "text/html": [
       "<div>\n",
       "<style scoped>\n",
       "    .dataframe tbody tr th:only-of-type {\n",
       "        vertical-align: middle;\n",
       "    }\n",
       "\n",
       "    .dataframe tbody tr th {\n",
       "        vertical-align: top;\n",
       "    }\n",
       "\n",
       "    .dataframe thead th {\n",
       "        text-align: right;\n",
       "    }\n",
       "</style>\n",
       "<table border=\"1\" class=\"dataframe\">\n",
       "  <thead>\n",
       "    <tr style=\"text-align: right;\">\n",
       "      <th></th>\n",
       "      <th>test_rmse</th>\n",
       "      <th>test_mae</th>\n",
       "      <th>fit_time</th>\n",
       "      <th>test_time</th>\n",
       "    </tr>\n",
       "  </thead>\n",
       "  <tbody>\n",
       "    <tr>\n",
       "      <th>0</th>\n",
       "      <td>0.855016</td>\n",
       "      <td>0.661148</td>\n",
       "      <td>234.441282</td>\n",
       "      <td>3.05262</td>\n",
       "    </tr>\n",
       "  </tbody>\n",
       "</table>\n",
       "</div>"
      ],
      "text/plain": [
       "   test_rmse  test_mae    fit_time  test_time\n",
       "0   0.855016  0.661148  234.441282    3.05262"
      ]
     },
     "execution_count": 567,
     "metadata": {},
     "output_type": "execute_result"
    }
   ],
   "source": [
    "#cross validation result for SVDpp\n",
    "pd.DataFrame(crs_val.mean()).transpose()"
   ]
  },
  {
   "cell_type": "code",
   "execution_count": 569,
   "metadata": {},
   "outputs": [
    {
     "data": {
      "text/html": [
       "<div>\n",
       "<style scoped>\n",
       "    .dataframe tbody tr th:only-of-type {\n",
       "        vertical-align: middle;\n",
       "    }\n",
       "\n",
       "    .dataframe tbody tr th {\n",
       "        vertical-align: top;\n",
       "    }\n",
       "\n",
       "    .dataframe thead th {\n",
       "        text-align: right;\n",
       "    }\n",
       "</style>\n",
       "<table border=\"1\" class=\"dataframe\">\n",
       "  <thead>\n",
       "    <tr style=\"text-align: right;\">\n",
       "      <th></th>\n",
       "      <th>uid</th>\n",
       "      <th>iid</th>\n",
       "      <th>r_ui</th>\n",
       "      <th>est</th>\n",
       "      <th>details</th>\n",
       "    </tr>\n",
       "  </thead>\n",
       "  <tbody>\n",
       "    <tr>\n",
       "      <th>0</th>\n",
       "      <td>1761</td>\n",
       "      <td>16513</td>\n",
       "      <td>1</td>\n",
       "      <td>3.000816</td>\n",
       "      <td>{'was_impossible': True, 'reason': 'User or item unknown'}</td>\n",
       "    </tr>\n",
       "    <tr>\n",
       "      <th>1</th>\n",
       "      <td>915</td>\n",
       "      <td>3746</td>\n",
       "      <td>4</td>\n",
       "      <td>3.274275</td>\n",
       "      <td>{'was_impossible': False}</td>\n",
       "    </tr>\n",
       "    <tr>\n",
       "      <th>2</th>\n",
       "      <td>644</td>\n",
       "      <td>8841</td>\n",
       "      <td>1</td>\n",
       "      <td>3.000816</td>\n",
       "      <td>{'was_impossible': True, 'reason': 'User or item unknown'}</td>\n",
       "    </tr>\n",
       "    <tr>\n",
       "      <th>3</th>\n",
       "      <td>1736</td>\n",
       "      <td>5270</td>\n",
       "      <td>3</td>\n",
       "      <td>3.310576</td>\n",
       "      <td>{'was_impossible': False}</td>\n",
       "    </tr>\n",
       "    <tr>\n",
       "      <th>4</th>\n",
       "      <td>1042</td>\n",
       "      <td>295</td>\n",
       "      <td>5</td>\n",
       "      <td>3.144547</td>\n",
       "      <td>{'was_impossible': False}</td>\n",
       "    </tr>\n",
       "  </tbody>\n",
       "</table>\n",
       "</div>"
      ],
      "text/plain": [
       "    uid    iid  r_ui       est  \\\n",
       "0  1761  16513     1  3.000816   \n",
       "1   915   3746     4  3.274275   \n",
       "2   644   8841     1  3.000816   \n",
       "3  1736   5270     3  3.310576   \n",
       "4  1042    295     5  3.144547   \n",
       "\n",
       "                                                      details  \n",
       "0  {'was_impossible': True, 'reason': 'User or item unknown'}  \n",
       "1                                   {'was_impossible': False}  \n",
       "2  {'was_impossible': True, 'reason': 'User or item unknown'}  \n",
       "3                                   {'was_impossible': False}  \n",
       "4                                   {'was_impossible': False}  "
      ]
     },
     "execution_count": 569,
     "metadata": {},
     "output_type": "execute_result"
    }
   ],
   "source": [
    "# Combine predictions (mean)\n",
    "\n",
    "# extract predictions content-based and item-based\n",
    "df_pred_cb, df_pred_ib = pd.DataFrame(cb_pred), pd.DataFrame(ib_pred)\n",
    "\n",
    "df_hybrid = df_pred_cb.copy()\n",
    "df_hybrid['est'] = (np.array(df_pred_cb['est']) + np.array(df_pred_ib['est'])) / 2\n",
    "\n",
    "df_hybrid.head()"
   ]
  },
  {
   "cell_type": "code",
   "execution_count": 584,
   "metadata": {},
   "outputs": [
    {
     "data": {
      "text/html": [
       "<div>\n",
       "<style scoped>\n",
       "    .dataframe tbody tr th:only-of-type {\n",
       "        vertical-align: middle;\n",
       "    }\n",
       "\n",
       "    .dataframe tbody tr th {\n",
       "        vertical-align: top;\n",
       "    }\n",
       "\n",
       "    .dataframe thead th {\n",
       "        text-align: right;\n",
       "    }\n",
       "</style>\n",
       "<table border=\"1\" class=\"dataframe\">\n",
       "  <thead>\n",
       "    <tr style=\"text-align: right;\">\n",
       "      <th></th>\n",
       "      <th>value</th>\n",
       "    </tr>\n",
       "  </thead>\n",
       "  <tbody>\n",
       "    <tr>\n",
       "      <th>RMSE</th>\n",
       "      <td>0.975423</td>\n",
       "    </tr>\n",
       "    <tr>\n",
       "      <th>MAE</th>\n",
       "      <td>0.771594</td>\n",
       "    </tr>\n",
       "    <tr>\n",
       "      <th>Recall</th>\n",
       "      <td>0.111529</td>\n",
       "    </tr>\n",
       "    <tr>\n",
       "      <th>Precision</th>\n",
       "      <td>0.998397</td>\n",
       "    </tr>\n",
       "    <tr>\n",
       "      <th>F1</th>\n",
       "      <td>0.200644</td>\n",
       "    </tr>\n",
       "    <tr>\n",
       "      <th>NDCG@5</th>\n",
       "      <td>0.850633</td>\n",
       "    </tr>\n",
       "  </tbody>\n",
       "</table>\n",
       "</div>"
      ],
      "text/plain": [
       "              value\n",
       "RMSE       0.975423\n",
       "MAE        0.771594\n",
       "Recall     0.111529\n",
       "Precision  0.998397\n",
       "F1         0.200644\n",
       "NDCG@5     0.850633"
      ]
     },
     "execution_count": 584,
     "metadata": {},
     "output_type": "execute_result"
    }
   ],
   "source": [
    "eval.evaluate(df_hybrid, topn=5, rating_cutoff=5)"
   ]
  },
  {
   "cell_type": "markdown",
   "metadata": {},
   "source": [
    "# GridSearchCV for SVDpp"
   ]
  },
  {
   "cell_type": "code",
   "execution_count": 549,
   "metadata": {},
   "outputs": [
    {
     "name": "stdout",
     "output_type": "stream",
     "text": [
      "0.8700949836625449\n",
      "{'n_factors': 100, 'n_epochs': 50, 'lr_all': 0.005, 'reg_all': 0.1}\n"
     ]
    }
   ],
   "source": [
    "np.random.seed(50)\n",
    "param_grid = {'n_factors' : [100,200],'n_epochs':[50,100],'lr_all': [0.005, 0.010],\n",
    "              'reg_all': [0.1,0.4]}\n",
    "gs = GridSearchCV(SVD, param_grid, measures=['rmse', 'mae'], cv=5)\n",
    "\n",
    "algo_gs = Dataset.load_from_df(train,reader)\n",
    "\n",
    "#fit\n",
    "gs.fit(algo_gs)\n",
    "\n",
    "# best RMSE score\n",
    "print(gs.best_score['rmse'])\n",
    "\n",
    "# combination of parameters that gave the best RMSE score\n",
    "print(gs.best_params['rmse'])"
   ]
  },
  {
   "cell_type": "markdown",
   "metadata": {},
   "source": [
    "# Linear Model - Hybrid 1"
   ]
  },
  {
   "cell_type": "code",
   "execution_count": 360,
   "metadata": {},
   "outputs": [
    {
     "data": {
      "text/html": [
       "<div>\n",
       "<style scoped>\n",
       "    .dataframe tbody tr th:only-of-type {\n",
       "        vertical-align: middle;\n",
       "    }\n",
       "\n",
       "    .dataframe tbody tr th {\n",
       "        vertical-align: top;\n",
       "    }\n",
       "\n",
       "    .dataframe thead th {\n",
       "        text-align: right;\n",
       "    }\n",
       "</style>\n",
       "<table border=\"1\" class=\"dataframe\">\n",
       "  <thead>\n",
       "    <tr style=\"text-align: right;\">\n",
       "      <th></th>\n",
       "      <th>target</th>\n",
       "      <th>ib_pred</th>\n",
       "      <th>cb_pred</th>\n",
       "    </tr>\n",
       "  </thead>\n",
       "  <tbody>\n",
       "    <tr>\n",
       "      <th>0</th>\n",
       "      <td>1</td>\n",
       "      <td>2.999862</td>\n",
       "      <td>3.001771</td>\n",
       "    </tr>\n",
       "    <tr>\n",
       "      <th>1</th>\n",
       "      <td>4</td>\n",
       "      <td>2.999862</td>\n",
       "      <td>3.548689</td>\n",
       "    </tr>\n",
       "    <tr>\n",
       "      <th>2</th>\n",
       "      <td>1</td>\n",
       "      <td>2.999862</td>\n",
       "      <td>3.001771</td>\n",
       "    </tr>\n",
       "    <tr>\n",
       "      <th>3</th>\n",
       "      <td>3</td>\n",
       "      <td>2.999862</td>\n",
       "      <td>3.621291</td>\n",
       "    </tr>\n",
       "    <tr>\n",
       "      <th>4</th>\n",
       "      <td>5</td>\n",
       "      <td>3.396237</td>\n",
       "      <td>2.892857</td>\n",
       "    </tr>\n",
       "  </tbody>\n",
       "</table>\n",
       "</div>"
      ],
      "text/plain": [
       "   target   ib_pred   cb_pred\n",
       "0       1  2.999862  3.001771\n",
       "1       4  2.999862  3.548689\n",
       "2       1  2.999862  3.001771\n",
       "3       3  2.999862  3.621291\n",
       "4       5  3.396237  2.892857"
      ]
     },
     "execution_count": 360,
     "metadata": {},
     "output_type": "execute_result"
    }
   ],
   "source": [
    "# training set for Linear Regression model\n",
    "lr_train = df_pred_ib[['r_ui', 'est']].rename(columns={'r_ui':'target', 'est':'ib_pred'})\n",
    "lr_train['cb_pred'] = df_pred_cb['est']\n",
    "lr_train.head()"
   ]
  },
  {
   "cell_type": "code",
   "execution_count": 361,
   "metadata": {},
   "outputs": [],
   "source": [
    "# Train Linear Regression model\n",
    "from sklearn.linear_model import LinearRegression\n",
    "\n",
    "X, y = lr_train.loc[:,lr_train.columns != 'target'], lr_train[['target']]\n",
    "\n",
    "lr_model = LinearRegression().fit(X,y)"
   ]
  },
  {
   "cell_type": "code",
   "execution_count": 362,
   "metadata": {},
   "outputs": [],
   "source": [
    "##### Hybrid - Linear Regression model\n",
    "# get test set\n",
    "lr_test = df_pred_ib[['r_ui', 'est']].rename(columns={'r_ui':'target', 'est':'ib_pred'})\n",
    "lr_test['cb_pred'] = df_pred_cb['est']\n",
    "X_test, y_test = lr_test.loc[:,lr_test.columns != 'target'], lr_test[['target']]\n",
    "\n",
    "# predict\n",
    "lr_pred = lr_model.predict(X_test)\n",
    "\n",
    "# transform in surprise format\n",
    "df_lr = df_pred_ib.copy()\n",
    "df_lr['est'] = lr_pred"
   ]
  },
  {
   "cell_type": "code",
   "execution_count": 363,
   "metadata": {},
   "outputs": [
    {
     "data": {
      "text/html": [
       "<div>\n",
       "<style scoped>\n",
       "    .dataframe tbody tr th:only-of-type {\n",
       "        vertical-align: middle;\n",
       "    }\n",
       "\n",
       "    .dataframe tbody tr th {\n",
       "        vertical-align: top;\n",
       "    }\n",
       "\n",
       "    .dataframe thead th {\n",
       "        text-align: right;\n",
       "    }\n",
       "</style>\n",
       "<table border=\"1\" class=\"dataframe\">\n",
       "  <thead>\n",
       "    <tr style=\"text-align: right;\">\n",
       "      <th></th>\n",
       "      <th>Content_Based</th>\n",
       "      <th>Artist_Based</th>\n",
       "      <th>SVD</th>\n",
       "      <th>SVD_PP</th>\n",
       "      <th>Hybrid_CB_IB</th>\n",
       "      <th>Hybrid_LR</th>\n",
       "    </tr>\n",
       "  </thead>\n",
       "  <tbody>\n",
       "    <tr>\n",
       "      <th>RMSE</th>\n",
       "      <td>0.969124</td>\n",
       "      <td>1.074782</td>\n",
       "      <td>0.854379</td>\n",
       "      <td>0.837949</td>\n",
       "      <td>0.975423</td>\n",
       "      <td>0.956128</td>\n",
       "    </tr>\n",
       "    <tr>\n",
       "      <th>MAE</th>\n",
       "      <td>0.736876</td>\n",
       "      <td>0.834757</td>\n",
       "      <td>0.670775</td>\n",
       "      <td>0.641852</td>\n",
       "      <td>0.771594</td>\n",
       "      <td>0.739426</td>\n",
       "    </tr>\n",
       "  </tbody>\n",
       "</table>\n",
       "</div>"
      ],
      "text/plain": [
       "      Content_Based  Artist_Based       SVD    SVD_PP  Hybrid_CB_IB  Hybrid_LR\n",
       "RMSE       0.969124      1.074782  0.854379  0.837949      0.975423   0.956128\n",
       "MAE        0.736876      0.834757  0.670775  0.641852      0.771594   0.739426"
      ]
     },
     "execution_count": 363,
     "metadata": {},
     "output_type": "execute_result"
    }
   ],
   "source": [
    "# Evaluate\n",
    "\n",
    "models = {\"Content_Based\":cb_pred, \"Artist_Based\":ib_pred, \"SVD\" : mf_pred ,\"SVD_PP\": svdpp2_pred ,\"Hybrid_CB_IB\":df_hybrid, \"Hybrid_LR\":df_lr}\n",
    "overview2 = pd.concat([eval.prediction_metrics(pred) for pred in models.values()], axis=1)\n",
    "overview2.columns = list(models.keys())\n",
    "overview2"
   ]
  },
  {
   "cell_type": "markdown",
   "metadata": {},
   "source": [
    "# Random Forest - Hybrid 2"
   ]
  },
  {
   "cell_type": "code",
   "execution_count": 364,
   "metadata": {},
   "outputs": [
    {
     "data": {
      "text/html": [
       "<div>\n",
       "<style scoped>\n",
       "    .dataframe tbody tr th:only-of-type {\n",
       "        vertical-align: middle;\n",
       "    }\n",
       "\n",
       "    .dataframe tbody tr th {\n",
       "        vertical-align: top;\n",
       "    }\n",
       "\n",
       "    .dataframe thead th {\n",
       "        text-align: right;\n",
       "    }\n",
       "</style>\n",
       "<table border=\"1\" class=\"dataframe\">\n",
       "  <thead>\n",
       "    <tr style=\"text-align: right;\">\n",
       "      <th></th>\n",
       "      <th>target</th>\n",
       "      <th>ib_pred</th>\n",
       "      <th>cb_pred</th>\n",
       "    </tr>\n",
       "  </thead>\n",
       "  <tbody>\n",
       "    <tr>\n",
       "      <th>0</th>\n",
       "      <td>1</td>\n",
       "      <td>2.999862</td>\n",
       "      <td>3.001771</td>\n",
       "    </tr>\n",
       "    <tr>\n",
       "      <th>1</th>\n",
       "      <td>4</td>\n",
       "      <td>2.999862</td>\n",
       "      <td>3.548689</td>\n",
       "    </tr>\n",
       "    <tr>\n",
       "      <th>2</th>\n",
       "      <td>1</td>\n",
       "      <td>2.999862</td>\n",
       "      <td>3.001771</td>\n",
       "    </tr>\n",
       "    <tr>\n",
       "      <th>3</th>\n",
       "      <td>3</td>\n",
       "      <td>2.999862</td>\n",
       "      <td>3.621291</td>\n",
       "    </tr>\n",
       "    <tr>\n",
       "      <th>4</th>\n",
       "      <td>5</td>\n",
       "      <td>3.396237</td>\n",
       "      <td>2.892857</td>\n",
       "    </tr>\n",
       "  </tbody>\n",
       "</table>\n",
       "</div>"
      ],
      "text/plain": [
       "   target   ib_pred   cb_pred\n",
       "0       1  2.999862  3.001771\n",
       "1       4  2.999862  3.548689\n",
       "2       1  2.999862  3.001771\n",
       "3       3  2.999862  3.621291\n",
       "4       5  3.396237  2.892857"
      ]
     },
     "execution_count": 364,
     "metadata": {},
     "output_type": "execute_result"
    }
   ],
   "source": [
    "# copy lr train set\n",
    "rf_train = lr_train.copy()\n",
    "rf_train.head()"
   ]
  },
  {
   "cell_type": "code",
   "execution_count": 378,
   "metadata": {},
   "outputs": [],
   "source": [
    "from sklearn.ensemble import RandomForestRegressor\n",
    "\n",
    "X, y = rf_train.loc[:,rf_train.columns != 'target'], np.array(rf_train['target'])\n",
    "\n",
    "# fit random forest model\n",
    "rf_model = RandomForestRegressor(max_depth=20, n_estimators=1000).fit(X,y)"
   ]
  },
  {
   "cell_type": "code",
   "execution_count": 379,
   "metadata": {},
   "outputs": [],
   "source": [
    "# predict\n",
    "rf_pred = rf_model.predict(X_test)\n",
    "\n",
    "# transform in surprise format\n",
    "df_rf = df_pred_ib.copy()\n",
    "df_rf['est'] = rf_pred"
   ]
  },
  {
   "cell_type": "code",
   "execution_count": 380,
   "metadata": {},
   "outputs": [],
   "source": [
    "# Evaluate\n",
    "rf_res = eval.prediction_metrics(df_rf).rename(columns={'value':'Hybrid_RF'})"
   ]
  },
  {
   "cell_type": "code",
   "execution_count": 381,
   "metadata": {},
   "outputs": [
    {
     "data": {
      "text/html": [
       "<div>\n",
       "<style scoped>\n",
       "    .dataframe tbody tr th:only-of-type {\n",
       "        vertical-align: middle;\n",
       "    }\n",
       "\n",
       "    .dataframe tbody tr th {\n",
       "        vertical-align: top;\n",
       "    }\n",
       "\n",
       "    .dataframe thead th {\n",
       "        text-align: right;\n",
       "    }\n",
       "</style>\n",
       "<table border=\"1\" class=\"dataframe\">\n",
       "  <thead>\n",
       "    <tr style=\"text-align: right;\">\n",
       "      <th></th>\n",
       "      <th>Content_Based</th>\n",
       "      <th>Artist_Based</th>\n",
       "      <th>SVD</th>\n",
       "      <th>SVD_PP</th>\n",
       "      <th>Hybrid_CB_IB</th>\n",
       "      <th>Hybrid_LR</th>\n",
       "      <th>Hybrid_RF</th>\n",
       "    </tr>\n",
       "  </thead>\n",
       "  <tbody>\n",
       "    <tr>\n",
       "      <th>RMSE</th>\n",
       "      <td>0.969124</td>\n",
       "      <td>1.074782</td>\n",
       "      <td>0.854379</td>\n",
       "      <td>0.837949</td>\n",
       "      <td>0.975423</td>\n",
       "      <td>0.956128</td>\n",
       "      <td>0.650241</td>\n",
       "    </tr>\n",
       "    <tr>\n",
       "      <th>MAE</th>\n",
       "      <td>0.736876</td>\n",
       "      <td>0.834757</td>\n",
       "      <td>0.670775</td>\n",
       "      <td>0.641852</td>\n",
       "      <td>0.771594</td>\n",
       "      <td>0.739426</td>\n",
       "      <td>0.471028</td>\n",
       "    </tr>\n",
       "  </tbody>\n",
       "</table>\n",
       "</div>"
      ],
      "text/plain": [
       "      Content_Based  Artist_Based       SVD    SVD_PP  Hybrid_CB_IB  \\\n",
       "RMSE       0.969124      1.074782  0.854379  0.837949      0.975423   \n",
       "MAE        0.736876      0.834757  0.670775  0.641852      0.771594   \n",
       "\n",
       "      Hybrid_LR  Hybrid_RF  \n",
       "RMSE   0.956128   0.650241  \n",
       "MAE    0.739426   0.471028  "
      ]
     },
     "execution_count": 381,
     "metadata": {},
     "output_type": "execute_result"
    }
   ],
   "source": [
    "# Display Overview\n",
    "overview3 = pd.concat([overview2, rf_res], axis=1)\n",
    "overview3"
   ]
  },
  {
   "cell_type": "code",
   "execution_count": 571,
   "metadata": {},
   "outputs": [
    {
     "data": {
      "image/png": "[encoded data removed]",
      "text/plain": [
       "<Figure size 576x288 with 1 Axes>"
      ]
     },
     "metadata": {
      "needs_background": "light"
     },
     "output_type": "display_data"
    },
    {
     "data": {
      "image/png": "[encoded data removed]",
      "text/plain": [
       "<Figure size 576x288 with 1 Axes>"
      ]
     },
     "metadata": {
      "needs_background": "light"
     },
     "output_type": "display_data"
    }
   ],
   "source": [
    "# RMSE and MAE of the Models \n",
    "width = .5\n",
    "for j, row in enumerate(overview3.index):\n",
    "    fig, ax = plt.subplots(figsize=(8,4))\n",
    "    x = np.arange(len(overview3.columns))\n",
    "    for i, col in enumerate(overview3.columns):\n",
    "        plt.bar(x[i], overview3.iloc[j,i], width, label='col')\n",
    "        ax.text(x[i], overview3.iloc[j,i], str(round(overview3.iloc[j,i],2)),\n",
    "                ha='center', va='bottom')\n",
    "    ax.set_xticks(x)\n",
    "    ax.set_title(row)\n",
    "    ax.set_xticklabels(overview3.columns)\n",
    "    plt.xticks(rotation = 45)\n",
    "    plt.show()"
   ]
  },
  {
   "cell_type": "markdown",
   "metadata": {},
   "source": [
    "# Recommending Artsits using the Best Models"
   ]
  },
  {
   "cell_type": "markdown",
   "metadata": {},
   "source": [
    "Function for top 10 Recommendations\n",
    "\n",
    "This Functions takes arguments model, train , user , top_n , itemcol and gives the respective recommendations."
   ]
  },
  {
   "cell_type": "code",
   "execution_count": 382,
   "metadata": {},
   "outputs": [],
   "source": [
    "def predict_user_topn(model, train, user, topk=10, item_col='item'):\n",
    "    \"\"\"\n",
    "    Returns topk items for specified user.\n",
    "    Return type: list\n",
    "\n",
    "    Args[model, train, user, topk, item_col]\n",
    "    model:      fitted model (surprise package)\n",
    "    train:      train set used to fit model\n",
    "    user:       user id\n",
    "    topk:       topk items to return\n",
    "    item_col:   column containing item ids \n",
    "    \"\"\"\n",
    "\n",
    "    # intermediate result dict \n",
    "    res = {item_col:[], 'pred':[], 'detail':[]}\n",
    "    \n",
    "    # iter through all items contained in train set\n",
    "    for item in set(train[item_col]) :\n",
    "        uid, iid, true_r, est, detail = model.predict(user,item)\n",
    "        if detail['was_impossible']: continue\n",
    "        # save to result dict\n",
    "        res[item_col].append(item)\n",
    "        res['pred'].append(est)\n",
    "        res['detail'].append(detail)\n",
    "\n",
    "    return list(pd.DataFrame(res).sort_values('pred', ascending=False)[:topk][item_col])"
   ]
  },
  {
   "cell_type": "code",
   "execution_count": 520,
   "metadata": {},
   "outputs": [
    {
     "data": {
      "text/html": [
       "<div>\n",
       "<style scoped>\n",
       "    .dataframe tbody tr th:only-of-type {\n",
       "        vertical-align: middle;\n",
       "    }\n",
       "\n",
       "    .dataframe tbody tr th {\n",
       "        vertical-align: top;\n",
       "    }\n",
       "\n",
       "    .dataframe thead th {\n",
       "        text-align: right;\n",
       "    }\n",
       "</style>\n",
       "<table border=\"1\" class=\"dataframe\">\n",
       "  <thead>\n",
       "    <tr style=\"text-align: right;\">\n",
       "      <th></th>\n",
       "      <th>userID</th>\n",
       "      <th>artistID</th>\n",
       "      <th>weight</th>\n",
       "      <th>rating</th>\n",
       "    </tr>\n",
       "  </thead>\n",
       "  <tbody>\n",
       "    <tr>\n",
       "      <th>0</th>\n",
       "      <td>2</td>\n",
       "      <td>51</td>\n",
       "      <td>0.039360</td>\n",
       "      <td>5</td>\n",
       "    </tr>\n",
       "    <tr>\n",
       "      <th>1</th>\n",
       "      <td>2</td>\n",
       "      <td>52</td>\n",
       "      <td>0.033142</td>\n",
       "      <td>5</td>\n",
       "    </tr>\n",
       "  </tbody>\n",
       "</table>\n",
       "</div>"
      ],
      "text/plain": [
       "   userID  artistID    weight  rating\n",
       "0       2        51  0.039360       5\n",
       "1       2        52  0.033142       5"
      ]
     },
     "execution_count": 520,
     "metadata": {},
     "output_type": "execute_result"
    }
   ],
   "source": [
    "user_artists.head(2)"
   ]
  },
  {
   "cell_type": "markdown",
   "metadata": {},
   "source": [
    "### Recommending top 10 Artists for UserID 10 , using CB"
   ]
  },
  {
   "cell_type": "markdown",
   "metadata": {},
   "source": [
    "- Here the aim is to recommend artists for a selected user and see how our model performs\n",
    "- Below is the recommendation using Content based Approach.\n",
    "- we got the respective artists names and their tag Values \n",
    "- and Finally checking what actually the user likes and listens to (from the user_artists data ) and what we are actually recommending."
   ]
  },
  {
   "cell_type": "code",
   "execution_count": 544,
   "metadata": {},
   "outputs": [
    {
     "data": {
      "text/html": [
       "<div>\n",
       "<style scoped>\n",
       "    .dataframe tbody tr th:only-of-type {\n",
       "        vertical-align: middle;\n",
       "    }\n",
       "\n",
       "    .dataframe tbody tr th {\n",
       "        vertical-align: top;\n",
       "    }\n",
       "\n",
       "    .dataframe thead th {\n",
       "        text-align: right;\n",
       "    }\n",
       "</style>\n",
       "<table border=\"1\" class=\"dataframe\">\n",
       "  <thead>\n",
       "    <tr style=\"text-align: right;\">\n",
       "      <th></th>\n",
       "      <th>artistID</th>\n",
       "      <th>name</th>\n",
       "      <th>tagValue</th>\n",
       "    </tr>\n",
       "  </thead>\n",
       "  <tbody>\n",
       "    <tr>\n",
       "      <th>0</th>\n",
       "      <td>173</td>\n",
       "      <td>Placebo</td>\n",
       "      <td>chillout' 'electronic' 'atmospheric' 'pop' 'new wave' 'melancholic'\\n 'rock' 'alternative' 'glam...</td>\n",
       "    </tr>\n",
       "    <tr>\n",
       "      <th>1</th>\n",
       "      <td>412</td>\n",
       "      <td>blink-182</td>\n",
       "      <td>pop' 'rock' 'alternative' 'alternative rock' 'hard rock' 'post-rock'\\n 'seen live' 'pop rock' 'p...</td>\n",
       "    </tr>\n",
       "    <tr>\n",
       "      <th>2</th>\n",
       "      <td>211</td>\n",
       "      <td>The Decemberists</td>\n",
       "      <td>rock' 'alternative' 'indie rock' 'singer-songwriter' 'indie' 'acoustic'\\n 'country' 'american' '...</td>\n",
       "    </tr>\n",
       "    <tr>\n",
       "      <th>3</th>\n",
       "      <td>208</td>\n",
       "      <td>Babyshambles</td>\n",
       "      <td>rock' 'alternative' 'alternative rock' 'indie rock' 'jazz' 'seen live'\\n 'singer-songwriter' 'in...</td>\n",
       "    </tr>\n",
       "    <tr>\n",
       "      <th>4</th>\n",
       "      <td>424</td>\n",
       "      <td>The Strokes</td>\n",
       "      <td>electronic' 'dance' 'new wave' 'rock' 'alternative' 'alternative rock'\\n 'hard rock' 'indie rock...</td>\n",
       "    </tr>\n",
       "    <tr>\n",
       "      <th>5</th>\n",
       "      <td>1379</td>\n",
       "      <td>Hurts</td>\n",
       "      <td>chillout' 'electronic' 'dance' 'pop' 'new wave' 'synth pop' 'synthpop'\\n 'alternative' 'uk' 'hip...</td>\n",
       "    </tr>\n",
       "    <tr>\n",
       "      <th>6</th>\n",
       "      <td>419</td>\n",
       "      <td>Tokyo Police Club</td>\n",
       "      <td>rock' 'alternative' 'indie rock' 'indie' 'post-punk' 'awesome'\\n 'male vocalists' 'canadian' 'lo...</td>\n",
       "    </tr>\n",
       "    <tr>\n",
       "      <th>7</th>\n",
       "      <td>1048</td>\n",
       "      <td>The Kooks</td>\n",
       "      <td>pop' 'rock' 'alternative' 'alternative rock' 'indie rock' 'uk'\\n 'seen live' 'indie' 'british' '...</td>\n",
       "    </tr>\n",
       "    <tr>\n",
       "      <th>8</th>\n",
       "      <td>1424</td>\n",
       "      <td>Cat Power</td>\n",
       "      <td>chillout' 'trip-hop' 'atmospheric' 'new wave' 'experimental'\\n 'female vocalist' 'rock' 'alterna...</td>\n",
       "    </tr>\n",
       "    <tr>\n",
       "      <th>9</th>\n",
       "      <td>416</td>\n",
       "      <td>The National</td>\n",
       "      <td>rock' 'alternative' 'alternative rock' 'indie rock' 'post-rock'\\n 'new york' 'seen live' 'indie'...</td>\n",
       "    </tr>\n",
       "  </tbody>\n",
       "</table>\n",
       "</div>"
      ],
      "text/plain": [
       "   artistID               name  \\\n",
       "0       173            Placebo   \n",
       "1       412          blink-182   \n",
       "2       211   The Decemberists   \n",
       "3       208       Babyshambles   \n",
       "4       424        The Strokes   \n",
       "5      1379              Hurts   \n",
       "6       419  Tokyo Police Club   \n",
       "7      1048          The Kooks   \n",
       "8      1424          Cat Power   \n",
       "9       416       The National   \n",
       "\n",
       "                                                                                              tagValue  \n",
       "0  chillout' 'electronic' 'atmospheric' 'pop' 'new wave' 'melancholic'\\n 'rock' 'alternative' 'glam...  \n",
       "1  pop' 'rock' 'alternative' 'alternative rock' 'hard rock' 'post-rock'\\n 'seen live' 'pop rock' 'p...  \n",
       "2  rock' 'alternative' 'indie rock' 'singer-songwriter' 'indie' 'acoustic'\\n 'country' 'american' '...  \n",
       "3  rock' 'alternative' 'alternative rock' 'indie rock' 'jazz' 'seen live'\\n 'singer-songwriter' 'in...  \n",
       "4  electronic' 'dance' 'new wave' 'rock' 'alternative' 'alternative rock'\\n 'hard rock' 'indie rock...  \n",
       "5  chillout' 'electronic' 'dance' 'pop' 'new wave' 'synth pop' 'synthpop'\\n 'alternative' 'uk' 'hip...  \n",
       "6  rock' 'alternative' 'indie rock' 'indie' 'post-punk' 'awesome'\\n 'male vocalists' 'canadian' 'lo...  \n",
       "7  pop' 'rock' 'alternative' 'alternative rock' 'indie rock' 'uk'\\n 'seen live' 'indie' 'british' '...  \n",
       "8  chillout' 'trip-hop' 'atmospheric' 'new wave' 'experimental'\\n 'female vocalist' 'rock' 'alterna...  \n",
       "9  rock' 'alternative' 'alternative rock' 'indie rock' 'post-rock'\\n 'new york' 'seen live' 'indie'...  "
      ]
     },
     "execution_count": 544,
     "metadata": {},
     "output_type": "execute_result"
    }
   ],
   "source": [
    "#Get the Recommendations using the Content Based Model\n",
    "recom_cb = pd.DataFrame(predict_user_topn(cb, train, 10, topk=10, item_col='artistID'))\n",
    "recom_cb.columns = ['artistID']\n",
    "\n",
    "#merge it wit the artists data to get the name of the recommended Artists\n",
    "recom_cb_merged = recom_cb.merge(artists , left_on= 'artistID' , right_on= 'id')\n",
    "recom_cb_merged = recom_cb_merged[['artistID','name']]\n",
    "recom_cb_merged\n",
    "\n",
    "#getting the tagValue to check the genere of these recommended artists \n",
    "cb_recomm = recom_cb_merged.merge(tags_grouped, how= 'left' , on= 'artistID')\n",
    "cb_recomm"
   ]
  },
  {
   "cell_type": "code",
   "execution_count": 548,
   "metadata": {},
   "outputs": [
    {
     "data": {
      "text/html": [
       "<div>\n",
       "<style scoped>\n",
       "    .dataframe tbody tr th:only-of-type {\n",
       "        vertical-align: middle;\n",
       "    }\n",
       "\n",
       "    .dataframe tbody tr th {\n",
       "        vertical-align: top;\n",
       "    }\n",
       "\n",
       "    .dataframe thead th {\n",
       "        text-align: right;\n",
       "    }\n",
       "</style>\n",
       "<table border=\"1\" class=\"dataframe\">\n",
       "  <thead>\n",
       "    <tr style=\"text-align: right;\">\n",
       "      <th></th>\n",
       "      <th>artistID</th>\n",
       "      <th>name</th>\n",
       "      <th>tagValue</th>\n",
       "    </tr>\n",
       "  </thead>\n",
       "  <tbody>\n",
       "    <tr>\n",
       "      <th>0</th>\n",
       "      <td>679</td>\n",
       "      <td>Glee Cast</td>\n",
       "      <td>electronic' 'dance' 'pop' 'female vocalist' 'rock' 'alternative' 'funk'\\n 'female vocalists' 'si...</td>\n",
       "    </tr>\n",
       "    <tr>\n",
       "      <th>1</th>\n",
       "      <td>2940</td>\n",
       "      <td>Dead by April</td>\n",
       "      <td>female vocalist' 'rock' 'alternative' 'alternative rock' 'hard rock'\\n 'metal' 'seen live' 'alte...</td>\n",
       "    </tr>\n",
       "    <tr>\n",
       "      <th>2</th>\n",
       "      <td>292</td>\n",
       "      <td>Christina Aguilera</td>\n",
       "      <td>electronic' 'dance' 'pop' 'female vocalist' 'rock' 'synthpop'\\n 'alternative' 'jazz' 'hip-hop' '...</td>\n",
       "    </tr>\n",
       "    <tr>\n",
       "      <th>3</th>\n",
       "      <td>1904</td>\n",
       "      <td>SHINee</td>\n",
       "      <td>pop' 'kpop' 'korean' 'k-pop' 'heart' 'myfavorites-singers'\\n 'biggest-voices' 'asian' 'korea</td>\n",
       "    </tr>\n",
       "    <tr>\n",
       "      <th>4</th>\n",
       "      <td>227</td>\n",
       "      <td>The Beatles</td>\n",
       "      <td>chillout' 'ambient' 'atmospheric' 'dance' 'pop' 'new wave' '80s'\\n 'experimental' 'rock' 'psyche...</td>\n",
       "    </tr>\n",
       "    <tr>\n",
       "      <th>5</th>\n",
       "      <td>419</td>\n",
       "      <td>Tokyo Police Club</td>\n",
       "      <td>rock' 'alternative' 'indie rock' 'indie' 'post-punk' 'awesome'\\n 'male vocalists' 'canadian' 'lo...</td>\n",
       "    </tr>\n",
       "    <tr>\n",
       "      <th>6</th>\n",
       "      <td>6724</td>\n",
       "      <td>John Frusciante</td>\n",
       "      <td>experimental' 'rock' 'alternative' 'alternative rock'\\n 'singer-songwriter' 'indie' 'acoustic' '...</td>\n",
       "    </tr>\n",
       "    <tr>\n",
       "      <th>7</th>\n",
       "      <td>2044</td>\n",
       "      <td>Sarah Brightman</td>\n",
       "      <td>chillout' 'electronic' 'ambient' 'new age' 'dance' 'pop'\\n 'female vocalist' 'melancholic' 'symp...</td>\n",
       "    </tr>\n",
       "    <tr>\n",
       "      <th>8</th>\n",
       "      <td>1994</td>\n",
       "      <td>Devin Townsend</td>\n",
       "      <td>ambient' 'experimental' 'alternative' 'progressive metal' 'metal' 'epic'\\n 'drone' 'progressive ...</td>\n",
       "    </tr>\n",
       "    <tr>\n",
       "      <th>9</th>\n",
       "      <td>4437</td>\n",
       "      <td>梶浦由記</td>\n",
       "      <td>new age' 'j-pop' 'soundtrack' 'epic' 'world' 'dream pop' 'piano'\\n 'japanese' 'anime' 'composer'...</td>\n",
       "    </tr>\n",
       "  </tbody>\n",
       "</table>\n",
       "</div>"
      ],
      "text/plain": [
       "   artistID                name  \\\n",
       "0       679           Glee Cast   \n",
       "1      2940       Dead by April   \n",
       "2       292  Christina Aguilera   \n",
       "3      1904              SHINee   \n",
       "4       227         The Beatles   \n",
       "5       419   Tokyo Police Club   \n",
       "6      6724     John Frusciante   \n",
       "7      2044     Sarah Brightman   \n",
       "8      1994      Devin Townsend   \n",
       "9      4437                梶浦由記   \n",
       "\n",
       "                                                                                              tagValue  \n",
       "0  electronic' 'dance' 'pop' 'female vocalist' 'rock' 'alternative' 'funk'\\n 'female vocalists' 'si...  \n",
       "1  female vocalist' 'rock' 'alternative' 'alternative rock' 'hard rock'\\n 'metal' 'seen live' 'alte...  \n",
       "2  electronic' 'dance' 'pop' 'female vocalist' 'rock' 'synthpop'\\n 'alternative' 'jazz' 'hip-hop' '...  \n",
       "3         pop' 'kpop' 'korean' 'k-pop' 'heart' 'myfavorites-singers'\\n 'biggest-voices' 'asian' 'korea  \n",
       "4  chillout' 'ambient' 'atmospheric' 'dance' 'pop' 'new wave' '80s'\\n 'experimental' 'rock' 'psyche...  \n",
       "5  rock' 'alternative' 'indie rock' 'indie' 'post-punk' 'awesome'\\n 'male vocalists' 'canadian' 'lo...  \n",
       "6  experimental' 'rock' 'alternative' 'alternative rock'\\n 'singer-songwriter' 'indie' 'acoustic' '...  \n",
       "7  chillout' 'electronic' 'ambient' 'new age' 'dance' 'pop'\\n 'female vocalist' 'melancholic' 'symp...  \n",
       "8  ambient' 'experimental' 'alternative' 'progressive metal' 'metal' 'epic'\\n 'drone' 'progressive ...  \n",
       "9  new age' 'j-pop' 'soundtrack' 'epic' 'world' 'dream pop' 'piano'\\n 'japanese' 'anime' 'composer'...  "
      ]
     },
     "execution_count": 548,
     "metadata": {},
     "output_type": "execute_result"
    }
   ],
   "source": [
    "#Get the Recommendations using the Collaborative Filtering Approach\n",
    "recom_svd = pd.DataFrame(predict_user_topn(svdpp, train, 10, topk=10, item_col='artistID'))\n",
    "recom_svd.columns = ['artistID']\n",
    "\n",
    "#merge it wit the artists data to get the name of the Recommended Artists\n",
    "recom_svd_merged = recom_svd.merge(artists , left_on= 'artistID' , right_on= 'id')\n",
    "recom_cb_merged = recom_svd_merged[['artistID','name']]\n",
    "recom_svd_merged\n",
    "\n",
    "#getting the tagValue to check the genere of these recommended artists \n",
    "svd_recomm = recom_svd_merged.merge(tags_grouped, how= 'left' , on= 'artistID')\n",
    "svd_recomm  = svd_recomm[['artistID','name','tagValue']]\n",
    "svd_recomm"
   ]
  },
  {
   "cell_type": "markdown",
   "metadata": {},
   "source": [
    "checking the tagValue of the artists the user 10 has already Rated. So from this we can understand that the tagValues are common in the Recommended artists and the artists that the user has already Rated. From this we have understood that the model recommendation is as expected."
   ]
  },
  {
   "cell_type": "code",
   "execution_count": 583,
   "metadata": {},
   "outputs": [
    {
     "data": {
      "text/plain": [
       "35788            alternative\n",
       "35789            alternative\n",
       "35790            alternative\n",
       "35791            alternative\n",
       "35792            alternative\n",
       "35793            alternative\n",
       "35794            alternative\n",
       "41190       alternative rock\n",
       "67017                  indie\n",
       "67018                  indie\n",
       "67019                  indie\n",
       "67020                  indie\n",
       "67021                  indie\n",
       "67022                  indie\n",
       "67023                  indie\n",
       "67024                  indie\n",
       "67025                  indie\n",
       "71475             good music\n",
       "71476             good music\n",
       "71477             good music\n",
       "71478             good music\n",
       "71479             good music\n",
       "71480             good music\n",
       "71488    death cab for cutie\n",
       "Name: tagValue, dtype: object"
      ]
     },
     "execution_count": 583,
     "metadata": {},
     "output_type": "execute_result"
    }
   ],
   "source": [
    "user_artists_tags[user_artists_tags[\"userID\"]==10]['tagValue']"
   ]
  },
  {
   "cell_type": "markdown",
   "metadata": {},
   "source": [
    "Recommendation for particular user , aggragated rating mean - Checking the variety of Artists our Model is Recommending to the users.\n",
    "- Here we are taking one userID 10 and aggregating all the ratings(mean) of that user for each of these artists which are actually recommeneded By our Model. So the aim is have the Variety of suggestions instead of Recommending the already rated artists by the user."
   ]
  },
  {
   "cell_type": "code",
   "execution_count": 573,
   "metadata": {},
   "outputs": [
    {
     "data": {
      "text/html": [
       "<div>\n",
       "<style scoped>\n",
       "    .dataframe tbody tr th:only-of-type {\n",
       "        vertical-align: middle;\n",
       "    }\n",
       "\n",
       "    .dataframe tbody tr th {\n",
       "        vertical-align: top;\n",
       "    }\n",
       "\n",
       "    .dataframe thead th {\n",
       "        text-align: right;\n",
       "    }\n",
       "</style>\n",
       "<table border=\"1\" class=\"dataframe\">\n",
       "  <thead>\n",
       "    <tr style=\"text-align: right;\">\n",
       "      <th></th>\n",
       "      <th>artistID</th>\n",
       "      <th>rating</th>\n",
       "    </tr>\n",
       "  </thead>\n",
       "  <tbody>\n",
       "    <tr>\n",
       "      <th>0</th>\n",
       "      <td>154</td>\n",
       "      <td>2.0</td>\n",
       "    </tr>\n",
       "    <tr>\n",
       "      <th>1</th>\n",
       "      <td>159</td>\n",
       "      <td>3.0</td>\n",
       "    </tr>\n",
       "    <tr>\n",
       "      <th>2</th>\n",
       "      <td>196</td>\n",
       "      <td>5.0</td>\n",
       "    </tr>\n",
       "    <tr>\n",
       "      <th>3</th>\n",
       "      <td>199</td>\n",
       "      <td>5.0</td>\n",
       "    </tr>\n",
       "    <tr>\n",
       "      <th>4</th>\n",
       "      <td>200</td>\n",
       "      <td>3.0</td>\n",
       "    </tr>\n",
       "    <tr>\n",
       "      <th>5</th>\n",
       "      <td>208</td>\n",
       "      <td>3.0</td>\n",
       "    </tr>\n",
       "    <tr>\n",
       "      <th>6</th>\n",
       "      <td>217</td>\n",
       "      <td>4.0</td>\n",
       "    </tr>\n",
       "    <tr>\n",
       "      <th>7</th>\n",
       "      <td>219</td>\n",
       "      <td>3.0</td>\n",
       "    </tr>\n",
       "    <tr>\n",
       "      <th>8</th>\n",
       "      <td>225</td>\n",
       "      <td>5.0</td>\n",
       "    </tr>\n",
       "    <tr>\n",
       "      <th>9</th>\n",
       "      <td>228</td>\n",
       "      <td>3.0</td>\n",
       "    </tr>\n",
       "  </tbody>\n",
       "</table>\n",
       "</div>"
      ],
      "text/plain": [
       "   artistID  rating\n",
       "0       154     2.0\n",
       "1       159     3.0\n",
       "2       196     5.0\n",
       "3       199     5.0\n",
       "4       200     3.0\n",
       "5       208     3.0\n",
       "6       217     4.0\n",
       "7       219     3.0\n",
       "8       225     5.0\n",
       "9       228     3.0"
      ]
     },
     "execution_count": 573,
     "metadata": {},
     "output_type": "execute_result"
    }
   ],
   "source": [
    "test_recomm = user_artists[user_artists['userID'] == 10 ]\n",
    "recom_grpd = test_recomm.groupby('artistID', as_index=False).agg({\"rating\": 'mean'})\n",
    "recom_grpd.head(10)"
   ]
  },
  {
   "cell_type": "markdown",
   "metadata": {},
   "source": [
    "Here we can see, as per our Models Recommendations, we have 4 artists where the user have already rated( 3 of them are 5 rating) and 6 artists are new recommendations.\n",
    "- Recommending Three 5 rated artists suggests that the Model actually considers all the cases where , what actually customers likes and what new and similar artists we can Recommend to the Users.\n",
    "- This also suggests that the model is recommending the artists to the users as we want it to be."
   ]
  },
  {
   "cell_type": "code",
   "execution_count": 574,
   "metadata": {},
   "outputs": [
    {
     "data": {
      "text/html": [
       "<div>\n",
       "<style scoped>\n",
       "    .dataframe tbody tr th:only-of-type {\n",
       "        vertical-align: middle;\n",
       "    }\n",
       "\n",
       "    .dataframe tbody tr th {\n",
       "        vertical-align: top;\n",
       "    }\n",
       "\n",
       "    .dataframe thead th {\n",
       "        text-align: right;\n",
       "    }\n",
       "</style>\n",
       "<table border=\"1\" class=\"dataframe\">\n",
       "  <thead>\n",
       "    <tr style=\"text-align: right;\">\n",
       "      <th></th>\n",
       "      <th>artistID</th>\n",
       "      <th>rating</th>\n",
       "    </tr>\n",
       "  </thead>\n",
       "  <tbody>\n",
       "    <tr>\n",
       "      <th>0</th>\n",
       "      <td>173</td>\n",
       "      <td>0.0</td>\n",
       "    </tr>\n",
       "    <tr>\n",
       "      <th>1</th>\n",
       "      <td>412</td>\n",
       "      <td>0.0</td>\n",
       "    </tr>\n",
       "    <tr>\n",
       "      <th>2</th>\n",
       "      <td>211</td>\n",
       "      <td>0.0</td>\n",
       "    </tr>\n",
       "    <tr>\n",
       "      <th>3</th>\n",
       "      <td>208</td>\n",
       "      <td>3.0</td>\n",
       "    </tr>\n",
       "    <tr>\n",
       "      <th>4</th>\n",
       "      <td>424</td>\n",
       "      <td>5.0</td>\n",
       "    </tr>\n",
       "    <tr>\n",
       "      <th>5</th>\n",
       "      <td>1379</td>\n",
       "      <td>0.0</td>\n",
       "    </tr>\n",
       "    <tr>\n",
       "      <th>6</th>\n",
       "      <td>419</td>\n",
       "      <td>5.0</td>\n",
       "    </tr>\n",
       "    <tr>\n",
       "      <th>7</th>\n",
       "      <td>1048</td>\n",
       "      <td>0.0</td>\n",
       "    </tr>\n",
       "    <tr>\n",
       "      <th>8</th>\n",
       "      <td>1424</td>\n",
       "      <td>0.0</td>\n",
       "    </tr>\n",
       "    <tr>\n",
       "      <th>9</th>\n",
       "      <td>416</td>\n",
       "      <td>5.0</td>\n",
       "    </tr>\n",
       "  </tbody>\n",
       "</table>\n",
       "</div>"
      ],
      "text/plain": [
       "   artistID  rating\n",
       "0       173     0.0\n",
       "1       412     0.0\n",
       "2       211     0.0\n",
       "3       208     3.0\n",
       "4       424     5.0\n",
       "5      1379     0.0\n",
       "6       419     5.0\n",
       "7      1048     0.0\n",
       "8      1424     0.0\n",
       "9       416     5.0"
      ]
     },
     "execution_count": 574,
     "metadata": {},
     "output_type": "execute_result"
    }
   ],
   "source": [
    "# This is the merge of the recommended artists by our model and the artists that user have already rated.\n",
    "merged = recom_cb.merge(recom_grpd, how = 'left' , on= 'artistID')\n",
    "merged.fillna(0)"
   ]
  },
  {
   "cell_type": "markdown",
   "metadata": {},
   "source": [
    "## Most Similar Users\n",
    "\n",
    "- We are using this function cb.get_most_similar to find out the Most similar artists. this fuction takes the arguments artistID and topn"
   ]
  },
  {
   "cell_type": "code",
   "execution_count": 575,
   "metadata": {},
   "outputs": [
    {
     "data": {
      "text/html": [
       "<div>\n",
       "<style scoped>\n",
       "    .dataframe tbody tr th:only-of-type {\n",
       "        vertical-align: middle;\n",
       "    }\n",
       "\n",
       "    .dataframe tbody tr th {\n",
       "        vertical-align: top;\n",
       "    }\n",
       "\n",
       "    .dataframe thead th {\n",
       "        text-align: right;\n",
       "    }\n",
       "</style>\n",
       "<table border=\"1\" class=\"dataframe\">\n",
       "  <thead>\n",
       "    <tr style=\"text-align: right;\">\n",
       "      <th></th>\n",
       "      <th>artistID</th>\n",
       "    </tr>\n",
       "  </thead>\n",
       "  <tbody>\n",
       "    <tr>\n",
       "      <th>0</th>\n",
       "      <td>208</td>\n",
       "    </tr>\n",
       "    <tr>\n",
       "      <th>1</th>\n",
       "      <td>6920</td>\n",
       "    </tr>\n",
       "    <tr>\n",
       "      <th>2</th>\n",
       "      <td>4059</td>\n",
       "    </tr>\n",
       "    <tr>\n",
       "      <th>3</th>\n",
       "      <td>17787</td>\n",
       "    </tr>\n",
       "    <tr>\n",
       "      <th>4</th>\n",
       "      <td>7288</td>\n",
       "    </tr>\n",
       "    <tr>\n",
       "      <th>5</th>\n",
       "      <td>1379</td>\n",
       "    </tr>\n",
       "    <tr>\n",
       "      <th>6</th>\n",
       "      <td>12299</td>\n",
       "    </tr>\n",
       "    <tr>\n",
       "      <th>7</th>\n",
       "      <td>8356</td>\n",
       "    </tr>\n",
       "    <tr>\n",
       "      <th>8</th>\n",
       "      <td>416</td>\n",
       "    </tr>\n",
       "    <tr>\n",
       "      <th>9</th>\n",
       "      <td>9132</td>\n",
       "    </tr>\n",
       "  </tbody>\n",
       "</table>\n",
       "</div>"
      ],
      "text/plain": [
       "   artistID\n",
       "0       208\n",
       "1      6920\n",
       "2      4059\n",
       "3     17787\n",
       "4      7288\n",
       "5      1379\n",
       "6     12299\n",
       "7      8356\n",
       "8       416\n",
       "9      9132"
      ]
     },
     "execution_count": 575,
     "metadata": {},
     "output_type": "execute_result"
    }
   ],
   "source": [
    "most_similar = pd.DataFrame(cb.get_most_similar( 419, topn=10))\n",
    "most_similar.columns = ['artistID']\n",
    "most_similar"
   ]
  },
  {
   "cell_type": "markdown",
   "metadata": {},
   "source": [
    "Here this suggests that in the most similar artists also we have 2 artists who was already rated by the user an the rest all are similar to the user we are recommending the artists."
   ]
  },
  {
   "cell_type": "code",
   "execution_count": 577,
   "metadata": {},
   "outputs": [
    {
     "data": {
      "text/html": [
       "<div>\n",
       "<style scoped>\n",
       "    .dataframe tbody tr th:only-of-type {\n",
       "        vertical-align: middle;\n",
       "    }\n",
       "\n",
       "    .dataframe tbody tr th {\n",
       "        vertical-align: top;\n",
       "    }\n",
       "\n",
       "    .dataframe thead th {\n",
       "        text-align: right;\n",
       "    }\n",
       "</style>\n",
       "<table border=\"1\" class=\"dataframe\">\n",
       "  <thead>\n",
       "    <tr style=\"text-align: right;\">\n",
       "      <th></th>\n",
       "      <th>artistID</th>\n",
       "      <th>rating</th>\n",
       "    </tr>\n",
       "  </thead>\n",
       "  <tbody>\n",
       "    <tr>\n",
       "      <th>0</th>\n",
       "      <td>208</td>\n",
       "      <td>3.0</td>\n",
       "    </tr>\n",
       "    <tr>\n",
       "      <th>1</th>\n",
       "      <td>6920</td>\n",
       "      <td>0.0</td>\n",
       "    </tr>\n",
       "    <tr>\n",
       "      <th>2</th>\n",
       "      <td>4059</td>\n",
       "      <td>0.0</td>\n",
       "    </tr>\n",
       "    <tr>\n",
       "      <th>3</th>\n",
       "      <td>17787</td>\n",
       "      <td>0.0</td>\n",
       "    </tr>\n",
       "    <tr>\n",
       "      <th>4</th>\n",
       "      <td>7288</td>\n",
       "      <td>0.0</td>\n",
       "    </tr>\n",
       "    <tr>\n",
       "      <th>5</th>\n",
       "      <td>1379</td>\n",
       "      <td>0.0</td>\n",
       "    </tr>\n",
       "    <tr>\n",
       "      <th>6</th>\n",
       "      <td>12299</td>\n",
       "      <td>0.0</td>\n",
       "    </tr>\n",
       "    <tr>\n",
       "      <th>7</th>\n",
       "      <td>8356</td>\n",
       "      <td>0.0</td>\n",
       "    </tr>\n",
       "    <tr>\n",
       "      <th>8</th>\n",
       "      <td>416</td>\n",
       "      <td>5.0</td>\n",
       "    </tr>\n",
       "    <tr>\n",
       "      <th>9</th>\n",
       "      <td>9132</td>\n",
       "      <td>0.0</td>\n",
       "    </tr>\n",
       "  </tbody>\n",
       "</table>\n",
       "</div>"
      ],
      "text/plain": [
       "   artistID  rating\n",
       "0       208     3.0\n",
       "1      6920     0.0\n",
       "2      4059     0.0\n",
       "3     17787     0.0\n",
       "4      7288     0.0\n",
       "5      1379     0.0\n",
       "6     12299     0.0\n",
       "7      8356     0.0\n",
       "8       416     5.0\n",
       "9      9132     0.0"
      ]
     },
     "execution_count": 577,
     "metadata": {},
     "output_type": "execute_result"
    }
   ],
   "source": [
    "recom_grpd.merge(most_similar , how= 'right' , on= 'artistID').fillna(0)"
   ]
  },
  {
   "cell_type": "code",
   "execution_count": 504,
   "metadata": {},
   "outputs": [
    {
     "data": {
      "text/plain": [
       "[679, 2940, 292, 1904, 227, 419, 6724, 2044, 1994, 4437]"
      ]
     },
     "execution_count": 504,
     "metadata": {},
     "output_type": "execute_result"
    }
   ],
   "source": [
    "predict_user_topn(svdpp, train, 10, topk=10, item_col='artistID')"
   ]
  },
  {
   "cell_type": "code",
   "execution_count": 505,
   "metadata": {},
   "outputs": [
    {
     "data": {
      "text/plain": [
       "[173, 412, 211, 208, 424, 1379, 419, 1048, 1424, 416]"
      ]
     },
     "execution_count": 505,
     "metadata": {},
     "output_type": "execute_result"
    }
   ],
   "source": [
    "predict_user_topn(cb, train, 10, topk=10, item_col='artistID')\n"
   ]
  }
 ],
 "metadata": {
  "interpreter": {
   "hash": "63fd5069d213b44bf678585dea6b12cceca9941eaf7f819626cde1f2670de90d"
  },
  "kernelspec": {
   "display_name": "Python 3.9.6 64-bit",
   "language": "python",
   "name": "python3"
  },
  "language_info": {
   "codemirror_mode": {
    "name": "ipython",
    "version": 3
   },
   "file_extension": ".py",
   "mimetype": "text/x-python",
   "name": "python",
   "nbconvert_exporter": "python",
   "pygments_lexer": "ipython3",
   "version": "3.8.12"
  },
  "orig_nbformat": 4
 },
 "nbformat": 4,
 "nbformat_minor": 2
}
